{
 "cells": [
  {
   "cell_type": "code",
   "execution_count": 1,
   "metadata": {
    "collapsed": true
   },
   "outputs": [],
   "source": [
    "import numpy as np\n",
    "import tensorflow as tf\n",
    "import os"
   ]
  },
  {
   "cell_type": "code",
   "execution_count": 2,
   "metadata": {
    "collapsed": true
   },
   "outputs": [],
   "source": [
    "import matplotlib.pyplot as plt\n",
    "import _pickle\n",
    "import time"
   ]
  },
  {
   "cell_type": "code",
   "execution_count": 3,
   "metadata": {
    "collapsed": true
   },
   "outputs": [],
   "source": [
    "# todo\n",
    "# compare likelihoods\n",
    "# test with less popular features\n",
    "# use different priors\n",
    "# multiclass logistic regression significance tests\n",
    "# fit mixture of gaussian vs gaussian\n",
    "# check if weight activity killed\n",
    "# tansfer learning for new class and robustness"
   ]
  },
  {
   "cell_type": "code",
   "execution_count": 4,
   "metadata": {
    "collapsed": true
   },
   "outputs": [],
   "source": [
    "file = open('true_class_saliency_mask_vanilla_temp1_10.pkl', \"rb\")\n",
    "# file = open('mean_diff_saliency_mask_vanilla_temp1.pkl', \"rb\")\n",
    "true_saliencies = _pickle.load(file) \n",
    "file = open('mean.pkl', \"rb\")\n",
    "gaussian_means = _pickle.load(file) \n",
    "file = open('covariance.pkl', \"rb\")\n",
    "gaussian_covariances = _pickle.load(file)\n",
    "\n",
    "with open('turker_prob.pkl', \"rb\") as handle:\n",
    "    turkers = _pickle.load(handle) \n",
    "\n",
    "with open('test_set_17_227.pkl', \"rb\") as handle:\n",
    "    test_set = _pickle.load(handle) \n",
    "    \n",
    "with open('turker_count.pkl', \"rb\") as handle:\n",
    "    turker_count= _pickle.load(handle) \n",
    "    \n",
    "with open('new_turker_count.pkl', \"rb\") as handle:\n",
    "    turker_count = _pickle.load(handle)"
   ]
  },
  {
   "cell_type": "code",
   "execution_count": 7,
   "metadata": {
    "collapsed": true
   },
   "outputs": [],
   "source": [
    "actor_true_saliencies = {}\n",
    "\n",
    "for actor in true_saliencies:\n",
    "    actor_saliency = np.mean(true_saliencies[actor], axis=0)\n",
    "    actor_true_saliencies[actor] = actor_saliency"
   ]
  },
  {
   "cell_type": "code",
   "execution_count": 8,
   "metadata": {
    "collapsed": true
   },
   "outputs": [],
   "source": [
    "male_actors = ['Daniel Radcliffe', 'Gerard Butler', 'Michael Vartan', 'Alec Baldwin', 'Steve Carell',\\\n",
    "                    'Bill Hader', 'Fran Drescher', 'Matt Damon', 'Nicolas Cage']\n",
    "female_actors = ['Cheryl Hines', 'Selena Gomez', 'Angie Harmon', 'Lorraine Bracco', 'Kristin Chenoweth',\\\n",
    "                      'America Ferrera', 'Anne Hathaway', 'Jennifer Aniston']\n",
    "gender ={}\n",
    "for actor in male_actors:\n",
    "    gender[actor] = 'male'\n",
    "for actor in female_actors:\n",
    "    gender[actor] = 'female' "
   ]
  },
  {
   "cell_type": "code",
   "execution_count": 9,
   "metadata": {},
   "outputs": [
    {
     "ename": "ZeroDivisionError",
     "evalue": "division by zero",
     "output_type": "error",
     "traceback": [
      "\u001b[0;31m---------------------------------------------------------------------------\u001b[0m",
      "\u001b[0;31mZeroDivisionError\u001b[0m                         Traceback (most recent call last)",
      "\u001b[0;32m<ipython-input-9-328fde766690>\u001b[0m in \u001b[0;36m<module>\u001b[0;34m()\u001b[0m\n\u001b[1;32m     18\u001b[0m     \u001b[0mtotal_count\u001b[0m \u001b[0;34m=\u001b[0m \u001b[0msum\u001b[0m\u001b[0;34m(\u001b[0m\u001b[0mactor_stats\u001b[0m\u001b[0;34m[\u001b[0m\u001b[0mactor\u001b[0m\u001b[0;34m]\u001b[0m\u001b[0;34m.\u001b[0m\u001b[0mvalues\u001b[0m\u001b[0;34m(\u001b[0m\u001b[0;34m)\u001b[0m\u001b[0;34m)\u001b[0m\u001b[0;34m\u001b[0m\u001b[0m\n\u001b[1;32m     19\u001b[0m     \u001b[0;32mfor\u001b[0m \u001b[0mfeature\u001b[0m \u001b[0;32min\u001b[0m \u001b[0mfeatures\u001b[0m\u001b[0;34m:\u001b[0m\u001b[0;34m\u001b[0m\u001b[0m\n\u001b[0;32m---> 20\u001b[0;31m         \u001b[0mactor_stats_normalized\u001b[0m\u001b[0;34m[\u001b[0m\u001b[0mactor\u001b[0m\u001b[0;34m]\u001b[0m\u001b[0;34m[\u001b[0m\u001b[0mfeature\u001b[0m\u001b[0;34m]\u001b[0m \u001b[0;34m=\u001b[0m \u001b[0mactor_stats\u001b[0m\u001b[0;34m[\u001b[0m\u001b[0mactor\u001b[0m\u001b[0;34m]\u001b[0m\u001b[0;34m[\u001b[0m\u001b[0mfeature\u001b[0m\u001b[0;34m]\u001b[0m\u001b[0;34m/\u001b[0m\u001b[0mtotal_count\u001b[0m\u001b[0;34m\u001b[0m\u001b[0m\n\u001b[0m",
      "\u001b[0;31mZeroDivisionError\u001b[0m: division by zero"
     ]
    }
   ],
   "source": [
    "# creating turker count per actor\n",
    "features = ['beard', 'eye brows', 'eyes', 'hairline', 'lips', 'moustache', 'nose']\n",
    "actor_stats = {}\n",
    "for actor in test_set:\n",
    "    actor_stats[actor] = {}\n",
    "    for feature in features:\n",
    "        actor_stats[actor][feature] = 0  \n",
    "    for stats in turker_count[actor]:\n",
    "        for feature in features:\n",
    "            try:\n",
    "                 actor_stats[actor][feature] += stats[feature]\n",
    "            except:\n",
    "                continue\n",
    "\n",
    "actor_stats_normalized = {}\n",
    "for actor in actor_stats:\n",
    "    actor_stats_normalized[actor] = {}\n",
    "    total_count = sum(actor_stats[actor].values())\n",
    "    for feature in features:\n",
    "        actor_stats_normalized[actor][feature] = actor_stats[actor][feature]/total_count"
   ]
  },
  {
   "cell_type": "code",
   "execution_count": 13,
   "metadata": {
    "collapsed": true
   },
   "outputs": [],
   "source": [
    "# creating turker coiunt per actor\n",
    "features = ['beard', 'eye brows', 'eyes', 'hairline', 'lips', 'moustache', 'nose']\n",
    "# features = ['eye brows', 'eyes', 'lips', 'nose']\n",
    "actor_stats = {}\n",
    "for actor in test_set:\n",
    "    actor_stats[actor] = {}\n",
    "    for feature in features:\n",
    "        actor_stats[actor][feature] = 0  \n",
    "#     for stats in turker_count[actor]:\n",
    "#         for feature in features:\n",
    "#             try:\n",
    "#                  actor_stats[actor][feature] += stats[feature]\n",
    "#             except:\n",
    "#                 continue\n",
    "                \n",
    "    stats = turker_count[actor]\n",
    "    for feature in features:\n",
    "        try:\n",
    "             actor_stats[actor][feature] += stats[feature]\n",
    "        except:\n",
    "            continue\n",
    "\n",
    "actor_stats_normalized = {}\n",
    "for actor in actor_stats:\n",
    "    actor_stats_normalized[actor] = {}\n",
    "    total_count = sum(actor_stats[actor].values())\n",
    "    for feature in features:\n",
    "        actor_stats_normalized[actor][feature] = actor_stats[actor][feature]/total_count"
   ]
  },
  {
   "cell_type": "code",
   "execution_count": 14,
   "metadata": {},
   "outputs": [
    {
     "data": {
      "text/plain": [
       "{'Alec Baldwin': {'beard': 0.012962962962962963,\n",
       "  'eye brows': 0.12407407407407407,\n",
       "  'eyes': 0.35185185185185186,\n",
       "  'hairline': 0.06851851851851852,\n",
       "  'lips': 0.2222222222222222,\n",
       "  'moustache': 0.014814814814814815,\n",
       "  'nose': 0.20555555555555555},\n",
       " 'America Ferrera': {'beard': 0.00202020202020202,\n",
       "  'eye brows': 0.13737373737373737,\n",
       "  'eyes': 0.2222222222222222,\n",
       "  'hairline': 0.044444444444444446,\n",
       "  'lips': 0.38585858585858585,\n",
       "  'moustache': 0.00808080808080808,\n",
       "  'nose': 0.2},\n",
       " 'Angie Harmon': {'beard': 0.007936507936507936,\n",
       "  'eye brows': 0.1865079365079365,\n",
       "  'eyes': 0.29563492063492064,\n",
       "  'hairline': 0.03968253968253968,\n",
       "  'lips': 0.31746031746031744,\n",
       "  'moustache': 0.00992063492063492,\n",
       "  'nose': 0.14285714285714285},\n",
       " 'Anne Hathaway': {'beard': 0.0,\n",
       "  'eye brows': 0.11443661971830986,\n",
       "  'eyes': 0.3204225352112676,\n",
       "  'hairline': 0.05985915492957746,\n",
       "  'lips': 0.41901408450704225,\n",
       "  'moustache': 0.0,\n",
       "  'nose': 0.08626760563380281},\n",
       " 'Bill Hader': {'beard': 0.011009174311926606,\n",
       "  'eye brows': 0.1669724770642202,\n",
       "  'eyes': 0.3614678899082569,\n",
       "  'hairline': 0.10458715596330276,\n",
       "  'lips': 0.2,\n",
       "  'moustache': 0.014678899082568808,\n",
       "  'nose': 0.14128440366972478},\n",
       " 'Cheryl Hines': {'beard': 0.00375234521575985,\n",
       "  'eye brows': 0.0600375234521576,\n",
       "  'eyes': 0.3058161350844278,\n",
       "  'hairline': 0.07129455909943715,\n",
       "  'lips': 0.41088180112570355,\n",
       "  'moustache': 0.001876172607879925,\n",
       "  'nose': 0.14634146341463414},\n",
       " 'Daniel Radcliffe': {'beard': 0.01651376146788991,\n",
       "  'eye brows': 0.22935779816513763,\n",
       "  'eyes': 0.3541284403669725,\n",
       "  'hairline': 0.09357798165137615,\n",
       "  'lips': 0.163302752293578,\n",
       "  'moustache': 0.014678899082568808,\n",
       "  'nose': 0.12844036697247707},\n",
       " 'Fran Drescher': {'beard': 0.0,\n",
       "  'eye brows': 0.1634980988593156,\n",
       "  'eyes': 0.2661596958174905,\n",
       "  'hairline': 0.04752851711026616,\n",
       "  'lips': 0.3935361216730038,\n",
       "  'moustache': 0.013307984790874524,\n",
       "  'nose': 0.11596958174904944},\n",
       " 'Gerard Butler': {'beard': 0.22281639928698752,\n",
       "  'eye brows': 0.07308377896613191,\n",
       "  'eyes': 0.34581105169340465,\n",
       "  'hairline': 0.03208556149732621,\n",
       "  'lips': 0.1051693404634581,\n",
       "  'moustache': 0.0873440285204991,\n",
       "  'nose': 0.13368983957219252},\n",
       " 'Jennifer Aniston': {'beard': 0.005660377358490566,\n",
       "  'eye brows': 0.09056603773584905,\n",
       "  'eyes': 0.38301886792452833,\n",
       "  'hairline': 0.13962264150943396,\n",
       "  'lips': 0.2641509433962264,\n",
       "  'moustache': 0.0018867924528301887,\n",
       "  'nose': 0.11509433962264151},\n",
       " 'Kristin Chenoweth': {'beard': 0.006024096385542169,\n",
       "  'eye brows': 0.0963855421686747,\n",
       "  'eyes': 0.3514056224899598,\n",
       "  'hairline': 0.08032128514056225,\n",
       "  'lips': 0.3493975903614458,\n",
       "  'moustache': 0.008032128514056224,\n",
       "  'nose': 0.10843373493975904},\n",
       " 'Lorraine Bracco': {'beard': 0.008146639511201629,\n",
       "  'eye brows': 0.0814663951120163,\n",
       "  'eyes': 0.2668024439918534,\n",
       "  'hairline': 0.109979633401222,\n",
       "  'lips': 0.26476578411405294,\n",
       "  'moustache': 0.002036659877800407,\n",
       "  'nose': 0.2668024439918534},\n",
       " 'Matt Damon': {'beard': 0.016917293233082706,\n",
       "  'eye brows': 0.08082706766917293,\n",
       "  'eyes': 0.31203007518796994,\n",
       "  'hairline': 0.08834586466165413,\n",
       "  'lips': 0.28383458646616544,\n",
       "  'moustache': 0.016917293233082706,\n",
       "  'nose': 0.20112781954887218},\n",
       " 'Michael Vartan': {'beard': 0.14336917562724014,\n",
       "  'eye brows': 0.06630824372759857,\n",
       "  'eyes': 0.25985663082437277,\n",
       "  'hairline': 0.09498207885304659,\n",
       "  'lips': 0.11469534050179211,\n",
       "  'moustache': 0.06630824372759857,\n",
       "  'nose': 0.25448028673835127},\n",
       " 'Nicolas Cage': {'beard': 0.024344569288389514,\n",
       "  'eye brows': 0.13857677902621723,\n",
       "  'eyes': 0.3333333333333333,\n",
       "  'hairline': 0.08239700374531835,\n",
       "  'lips': 0.1853932584269663,\n",
       "  'moustache': 0.018726591760299626,\n",
       "  'nose': 0.21722846441947566},\n",
       " 'Selena Gomez': {'beard': 0.00211864406779661,\n",
       "  'eye brows': 0.06779661016949153,\n",
       "  'eyes': 0.3495762711864407,\n",
       "  'hairline': 0.07415254237288135,\n",
       "  'lips': 0.3855932203389831,\n",
       "  'moustache': 0.012711864406779662,\n",
       "  'nose': 0.10805084745762712},\n",
       " 'Steve Carell': {'beard': 0.03962264150943396,\n",
       "  'eye brows': 0.19811320754716982,\n",
       "  'eyes': 0.2320754716981132,\n",
       "  'hairline': 0.04905660377358491,\n",
       "  'lips': 0.18679245283018867,\n",
       "  'moustache': 0.03207547169811321,\n",
       "  'nose': 0.2622641509433962}}"
      ]
     },
     "execution_count": 14,
     "metadata": {},
     "output_type": "execute_result"
    }
   ],
   "source": [
    "actor_stats_normalized"
   ]
  },
  {
   "cell_type": "code",
   "execution_count": 15,
   "metadata": {},
   "outputs": [
    {
     "name": "stdout",
     "output_type": "stream",
     "text": [
      "beard\n"
     ]
    },
    {
     "ename": "NameError",
     "evalue": "name 'turker_deviations' is not defined",
     "output_type": "error",
     "traceback": [
      "\u001b[0;31m---------------------------------------------------------------------------\u001b[0m",
      "\u001b[0;31mNameError\u001b[0m                                 Traceback (most recent call last)",
      "\u001b[0;32m<ipython-input-15-222d9311e236>\u001b[0m in \u001b[0;36m<module>\u001b[0;34m()\u001b[0m\n\u001b[1;32m      2\u001b[0m \u001b[0;32mfor\u001b[0m \u001b[0mfeature\u001b[0m \u001b[0;32min\u001b[0m \u001b[0mfeatures\u001b[0m\u001b[0;34m:\u001b[0m\u001b[0;34m\u001b[0m\u001b[0m\n\u001b[1;32m      3\u001b[0m     \u001b[0mprint\u001b[0m\u001b[0;34m(\u001b[0m\u001b[0mfeature\u001b[0m\u001b[0;34m)\u001b[0m\u001b[0;34m\u001b[0m\u001b[0m\n\u001b[0;32m----> 4\u001b[0;31m     \u001b[0mdata\u001b[0m \u001b[0;34m=\u001b[0m \u001b[0;34m[\u001b[0m\u001b[0;34m(\u001b[0m\u001b[0mactor\u001b[0m\u001b[0;34m,\u001b[0m \u001b[0mturker_deviations\u001b[0m\u001b[0;34m[\u001b[0m\u001b[0mactor\u001b[0m\u001b[0;34m]\u001b[0m\u001b[0;34m[\u001b[0m\u001b[0mfeature\u001b[0m\u001b[0;34m]\u001b[0m\u001b[0;34m)\u001b[0m \u001b[0;32mfor\u001b[0m \u001b[0mactor\u001b[0m \u001b[0;32min\u001b[0m \u001b[0mtest_set\u001b[0m\u001b[0;34m.\u001b[0m\u001b[0mkeys\u001b[0m\u001b[0;34m(\u001b[0m\u001b[0;34m)\u001b[0m\u001b[0;34m]\u001b[0m\u001b[0;34m\u001b[0m\u001b[0m\n\u001b[0m\u001b[1;32m      5\u001b[0m     \u001b[0msorted_data\u001b[0m \u001b[0;34m=\u001b[0m \u001b[0msorted\u001b[0m\u001b[0;34m(\u001b[0m\u001b[0mdata\u001b[0m\u001b[0;34m,\u001b[0m \u001b[0mkey\u001b[0m\u001b[0;34m=\u001b[0m\u001b[0;32mlambda\u001b[0m \u001b[0mtup\u001b[0m\u001b[0;34m:\u001b[0m \u001b[0mtup\u001b[0m\u001b[0;34m[\u001b[0m\u001b[0;36m1\u001b[0m\u001b[0;34m]\u001b[0m\u001b[0;34m)\u001b[0m\u001b[0;34m\u001b[0m\u001b[0m\n\u001b[1;32m      6\u001b[0m     \u001b[0msorted_data\u001b[0m\u001b[0;34m.\u001b[0m\u001b[0mreverse\u001b[0m\u001b[0;34m(\u001b[0m\u001b[0;34m)\u001b[0m\u001b[0;34m\u001b[0m\u001b[0m\n",
      "\u001b[0;32m<ipython-input-15-222d9311e236>\u001b[0m in \u001b[0;36m<listcomp>\u001b[0;34m(.0)\u001b[0m\n\u001b[1;32m      2\u001b[0m \u001b[0;32mfor\u001b[0m \u001b[0mfeature\u001b[0m \u001b[0;32min\u001b[0m \u001b[0mfeatures\u001b[0m\u001b[0;34m:\u001b[0m\u001b[0;34m\u001b[0m\u001b[0m\n\u001b[1;32m      3\u001b[0m     \u001b[0mprint\u001b[0m\u001b[0;34m(\u001b[0m\u001b[0mfeature\u001b[0m\u001b[0;34m)\u001b[0m\u001b[0;34m\u001b[0m\u001b[0m\n\u001b[0;32m----> 4\u001b[0;31m     \u001b[0mdata\u001b[0m \u001b[0;34m=\u001b[0m \u001b[0;34m[\u001b[0m\u001b[0;34m(\u001b[0m\u001b[0mactor\u001b[0m\u001b[0;34m,\u001b[0m \u001b[0mturker_deviations\u001b[0m\u001b[0;34m[\u001b[0m\u001b[0mactor\u001b[0m\u001b[0;34m]\u001b[0m\u001b[0;34m[\u001b[0m\u001b[0mfeature\u001b[0m\u001b[0;34m]\u001b[0m\u001b[0;34m)\u001b[0m \u001b[0;32mfor\u001b[0m \u001b[0mactor\u001b[0m \u001b[0;32min\u001b[0m \u001b[0mtest_set\u001b[0m\u001b[0;34m.\u001b[0m\u001b[0mkeys\u001b[0m\u001b[0;34m(\u001b[0m\u001b[0;34m)\u001b[0m\u001b[0;34m]\u001b[0m\u001b[0;34m\u001b[0m\u001b[0m\n\u001b[0m\u001b[1;32m      5\u001b[0m     \u001b[0msorted_data\u001b[0m \u001b[0;34m=\u001b[0m \u001b[0msorted\u001b[0m\u001b[0;34m(\u001b[0m\u001b[0mdata\u001b[0m\u001b[0;34m,\u001b[0m \u001b[0mkey\u001b[0m\u001b[0;34m=\u001b[0m\u001b[0;32mlambda\u001b[0m \u001b[0mtup\u001b[0m\u001b[0;34m:\u001b[0m \u001b[0mtup\u001b[0m\u001b[0;34m[\u001b[0m\u001b[0;36m1\u001b[0m\u001b[0;34m]\u001b[0m\u001b[0;34m)\u001b[0m\u001b[0;34m\u001b[0m\u001b[0m\n\u001b[1;32m      6\u001b[0m     \u001b[0msorted_data\u001b[0m\u001b[0;34m.\u001b[0m\u001b[0mreverse\u001b[0m\u001b[0;34m(\u001b[0m\u001b[0;34m)\u001b[0m\u001b[0;34m\u001b[0m\u001b[0m\n",
      "\u001b[0;31mNameError\u001b[0m: name 'turker_deviations' is not defined"
     ]
    }
   ],
   "source": [
    "# rank actors by prominence of feature\n",
    "for feature in features:\n",
    "    print(feature)\n",
    "    data = [(actor, turker_deviations[actor][feature]) for actor in test_set.keys()]\n",
    "    sorted_data = sorted(data, key=lambda tup: tup[1])\n",
    "    sorted_data.reverse()\n",
    "    clean_sorted_data = [stat[0] for stat in sorted_data]\n",
    "    print(clean_sorted_data)"
   ]
  },
  {
   "cell_type": "code",
   "execution_count": 43,
   "metadata": {},
   "outputs": [
    {
     "name": "stdout",
     "output_type": "stream",
     "text": [
      "eye brows\n",
      "['Steve Carell', 'Fran Drescher', 'Nicolas Cage', 'Daniel Radcliffe', 'Matt Damon', 'Lorraine Bracco', 'Angie Harmon', 'Kristin Chenoweth', 'Michael Vartan', 'Anne Hathaway', 'Cheryl Hines', 'Alec Baldwin', 'Bill Hader', 'Selena Gomez', 'America Ferrera', 'Gerard Butler', 'Jennifer Aniston']\n",
      "eyes\n",
      "['Steve Carell', 'Daniel Radcliffe', 'Nicolas Cage', 'Matt Damon', 'Fran Drescher', 'Angie Harmon', 'Cheryl Hines', 'Bill Hader', 'Lorraine Bracco', 'Alec Baldwin', 'Anne Hathaway', 'Kristin Chenoweth', 'Selena Gomez', 'Michael Vartan', 'Gerard Butler', 'America Ferrera', 'Jennifer Aniston']\n",
      "lips\n",
      "['Anne Hathaway', 'America Ferrera', 'Gerard Butler', 'Fran Drescher', 'Selena Gomez', 'Angie Harmon', 'Cheryl Hines', 'Kristin Chenoweth', 'Michael Vartan', 'Alec Baldwin', 'Nicolas Cage', 'Bill Hader', 'Jennifer Aniston', 'Matt Damon', 'Lorraine Bracco', 'Steve Carell', 'Daniel Radcliffe']\n",
      "nose\n",
      "['America Ferrera', 'Selena Gomez', 'Gerard Butler', 'Anne Hathaway', 'Matt Damon', 'Angie Harmon', 'Nicolas Cage', 'Michael Vartan', 'Fran Drescher', 'Alec Baldwin', 'Bill Hader', 'Daniel Radcliffe', 'Cheryl Hines', 'Lorraine Bracco', 'Jennifer Aniston', 'Steve Carell', 'Kristin Chenoweth']\n"
     ]
    }
   ],
   "source": [
    "# rank actors by prominence of feature\n",
    "for feature in features:\n",
    "    print(feature)\n",
    "    data = [(actor, deviations[actor][feature]) for actor in test_set.keys()]\n",
    "    sorted_data = sorted(data, key=lambda tup: tup[1])\n",
    "    sorted_data.reverse()\n",
    "    clean_sorted_data = [stat[0] for stat in sorted_data]\n",
    "    print(clean_sorted_data)"
   ]
  },
  {
   "cell_type": "code",
   "execution_count": 16,
   "metadata": {
    "collapsed": true
   },
   "outputs": [],
   "source": [
    "average_turker_stats = {}\n",
    "for feature in features:\n",
    "    all_stats = [actor_stats_normalized[actor][feature] for actor in test_set.keys()]\n",
    "    average_turker_stats[feature] = sum(all_stats)/len(all_stats)"
   ]
  },
  {
   "cell_type": "code",
   "execution_count": 17,
   "metadata": {},
   "outputs": [
    {
     "data": {
      "text/plain": [
       "{'beard': 0.030777340599024358,\n",
       " 'eye brows': 0.12208128984336533,\n",
       " 'eyes': 0.31244785055455215,\n",
       " 'hairline': 0.07531976978555835,\n",
       " 'lips': 0.2736510824729254,\n",
       " 'moustache': 0.019023369857129973,\n",
       " 'nose': 0.16669929688744448}"
      ]
     },
     "execution_count": 17,
     "metadata": {},
     "output_type": "execute_result"
    }
   ],
   "source": [
    "average_turker_stats"
   ]
  },
  {
   "cell_type": "code",
   "execution_count": 18,
   "metadata": {
    "collapsed": true
   },
   "outputs": [],
   "source": [
    "turker_deviations = {}\n",
    "for actor in actor_stats_normalized:\n",
    "    turker_deviations[actor]={}\n",
    "    for feature in features:\n",
    "        turker_deviations[actor][feature] = actor_stats_normalized[actor][feature]/average_turker_stats[feature]\n",
    "        "
   ]
  },
  {
   "cell_type": "code",
   "execution_count": 19,
   "metadata": {
    "scrolled": false
   },
   "outputs": [
    {
     "data": {
      "text/plain": [
       "{'Alec Baldwin': {'beard': 0.42118528471475175,\n",
       "  'eye brows': 1.0163234205115752,\n",
       "  'eyes': 1.1261138498068173,\n",
       "  'hairline': 0.9097016455785306,\n",
       "  'lips': 0.8120641081118636,\n",
       "  'moustache': 0.7787692152377625,\n",
       "  'nose': 1.233091916964394},\n",
       " 'America Ferrera': {'beard': 0.06563926515035093,\n",
       "  'eye brows': 1.1252644655867643,\n",
       "  'eyes': 0.7112297998779898,\n",
       "  'hairline': 0.5900767430779658,\n",
       "  'lips': 1.4100385877215087,\n",
       "  'moustache': 0.4247832083115068,\n",
       "  'nose': 1.199765108397789},\n",
       " 'Angie Harmon': {'beard': 0.2578685416620929,\n",
       "  'eye brows': 1.5277356321122826,\n",
       "  'eyes': 0.9461896444805401,\n",
       "  'hairline': 0.5268542348910409,\n",
       "  'lips': 1.160091583016948,\n",
       "  'moustache': 0.5214972423467159,\n",
       "  'nose': 0.856975077426992},\n",
       " 'Anne Hathaway': {'beard': 0.0,\n",
       "  'eye brows': 0.9373804934821391,\n",
       "  'eyes': 1.0255232501761862,\n",
       "  'hairline': 0.7947336416454996,\n",
       "  'lips': 1.5311983446968416,\n",
       "  'moustache': 0.0,\n",
       "  'nose': 0.5175043161222856},\n",
       " 'Bill Hader': {'beard': 0.35770388531475644,\n",
       "  'eye brows': 1.3677155383798112,\n",
       "  'eyes': 1.1568903075079597,\n",
       "  'hairline': 1.388575088068791,\n",
       "  'lips': 0.7308576973006773,\n",
       "  'moustache': 0.7716245435383335,\n",
       "  'nose': 0.8475404894186215},\n",
       " 'Cheryl Hines': {'beard': 0.12191908536369121,\n",
       "  'eye brows': 0.49178316783176107,\n",
       "  'eyes': 0.9787749685000106,\n",
       "  'hairline': 0.9465583777329469,\n",
       "  'lips': 1.5014806351674326,\n",
       "  'moustache': 0.09862461919052339,\n",
       "  'nose': 0.8778769085837479},\n",
       " 'Daniel Radcliffe': {'beard': 0.5365558279721346,\n",
       "  'eye brows': 1.8787301351371033,\n",
       "  'eyes': 1.1334001489798793,\n",
       "  'hairline': 1.2424092893247078,\n",
       "  'lips': 0.5967553675207365,\n",
       "  'moustache': 0.7716245435383335,\n",
       "  'nose': 0.7704913540169286},\n",
       " 'Fran Drescher': {'beard': 0.0,\n",
       "  'eye brows': 1.3392559913897495,\n",
       "  'eyes': 0.8518531823633719,\n",
       "  'hairline': 0.6310231330444025,\n",
       "  'lips': 1.4380945184528535,\n",
       "  'moustache': 0.6995597988590166,\n",
       "  'nose': 0.6956812890899726},\n",
       " 'Gerard Butler': {'beard': 7.239624832759293,\n",
       "  'eye brows': 0.5986484829894984,\n",
       "  'eyes': 1.1067800629117384,\n",
       "  'hairline': 0.42599123163382563,\n",
       "  'lips': 0.38431910998876967,\n",
       "  'moustache': 4.591406736896434,\n",
       "  'nose': 0.8019820243300728},\n",
       " 'Jennifer Aniston': {'beard': 0.18391379009107758,\n",
       "  'eye brows': 0.741850269210364,\n",
       "  'eyes': 1.2258649475255543,\n",
       "  'hairline': 1.8537316551411567,\n",
       "  'lips': 0.965283751151838,\n",
       "  'moustache': 0.09918287175197918,\n",
       "  'nose': 0.690430864266652},\n",
       " 'Kristin Chenoweth': {'beard': 0.19573154367122717,\n",
       "  'eye brows': 0.789519362814243,\n",
       "  'eyes': 1.1246856775179057,\n",
       "  'hairline': 1.0664037525505405,\n",
       "  'lips': 1.276799591669858,\n",
       "  'moustache': 0.4222242733216784,\n",
       "  'nose': 0.6504750587698855},\n",
       " 'Lorraine Bracco': {'beard': 0.26469601832524403,\n",
       "  'eye brows': 0.6673126997309793,\n",
       "  'eyes': 0.8539103198127802,\n",
       "  'hairline': 1.4601695373517891,\n",
       "  'lips': 0.9675305565080249,\n",
       "  'moustache': 0.10706094099500807,\n",
       "  'nose': 1.6005013156834047},\n",
       " 'Matt Damon': {'beard': 0.5496671545955139,\n",
       "  'eye brows': 0.6620758002547069,\n",
       "  'eyes': 0.998662895693343,\n",
       "  'hairline': 1.1729439018890016,\n",
       "  'lips': 1.0372134613947583,\n",
       "  'moustache': 0.8892900343175577,\n",
       "  'nose': 1.2065307011143178},\n",
       " 'Michael Vartan': {'beard': 4.6582704300249045,\n",
       "  'eye brows': 0.5431482892478808,\n",
       "  'eyes': 0.831680007921843,\n",
       "  'hairline': 1.261051104158556,\n",
       "  'lips': 0.41912986225128446,\n",
       "  'moustache': 3.485620277878695,\n",
       "  'nose': 1.526582844018692},\n",
       " 'Nicolas Cage': {'beard': 0.7909900210533861,\n",
       "  'eye brows': 1.1351188966304027,\n",
       "  'eyes': 1.0668446998169847,\n",
       "  'hairline': 1.093962501211959,\n",
       "  'lips': 0.6774804497450099,\n",
       "  'moustache': 0.984399288924138,\n",
       "  'nose': 1.303115660806587},\n",
       " 'Selena Gomez': {'beard': 0.06883778866403328,\n",
       "  'eye brows': 0.5553398907930691,\n",
       "  'eyes': 1.1188307762911176,\n",
       "  'hairline': 0.9845030406226654,\n",
       "  'lips': 1.4090688655585093,\n",
       "  'moustache': 0.6682235851086734,\n",
       "  'nose': 0.6481781835623648},\n",
       " 'Steve Carell': {'beard': 1.287396530637543,\n",
       "  'eye brows': 1.6227974638976714,\n",
       "  'eyes': 0.7427654608159763,\n",
       "  'hairline': 0.6513111220766227,\n",
       "  'lips': 0.6825935097430853,\n",
       "  'moustache': 1.686108819783646,\n",
       "  'nose': 1.573276887427289}}"
      ]
     },
     "execution_count": 19,
     "metadata": {},
     "output_type": "execute_result"
    }
   ],
   "source": [
    "turker_deviations"
   ]
  },
  {
   "cell_type": "code",
   "execution_count": 20,
   "metadata": {
    "collapsed": true
   },
   "outputs": [],
   "source": [
    "# monte carlo rectangles generation\n",
    "def generate_rectangles(means, covariances):\n",
    "    mc_samples = {}\n",
    "    for feature in features:\n",
    "#         print(feature)\n",
    "        rectangles = []\n",
    "        while len(rectangles) < 100:\n",
    "#             print(len(rectangles))\n",
    "            width, height, y_centre, x_centre = np.random.multivariate_normal(means[feature], \\\n",
    "                                                                              covariances[feature])\n",
    "            x_0= int(np.round(x_centre - width/2)) \n",
    "            x_1= int(np.round(x_centre + width/2)) \n",
    "            y_0= int(np.round(226 - y_centre - height/2)) \n",
    "            y_1= int(np.round(226 - y_centre + height/2)) \n",
    "            \n",
    "#             x_0= int(np.round(x_centre - height/2)) \n",
    "#             x_1= int(np.round(x_centre + height/2)) \n",
    "#             y_0= int(np.round(y_centre - width/2)) \n",
    "#             y_1= int(np.round(y_centre + width/2)) \n",
    "            \n",
    "#             print(np.array([x_centre, y_centre, height, width]))\n",
    "#             print(np.array([x_0,x_1,y_0,y_1]))\n",
    "            if 0<= x_0 < x_1 <=226 and 0<= y_0 < y_1 <=226:\n",
    "                rectangles.append(np.array([x_0,x_1,y_0,y_1]))\n",
    "                \n",
    "        mc_samples[feature] = np.stack(rectangles)\n",
    "        \n",
    "    return mc_samples \n",
    "\n",
    "mc_rectangle_samples = generate_rectangles(gaussian_means, gaussian_covariances)"
   ]
  },
  {
   "cell_type": "code",
   "execution_count": 21,
   "metadata": {
    "collapsed": true
   },
   "outputs": [],
   "source": [
    "# avg_intensity_ratios = {}\n",
    "# for feature in features:\n",
    "#     feature_intensity_ratios = [predictions[actor][feature] for actor in sorted(test_set.keys())] \n",
    "#     avg_likelihood[feature] = sum(feature_likelihoods)/len(feature_likelihoods)\n",
    "    \n",
    "# for actor in predictions:\n",
    "#     for feature in predictions[actor]:\n",
    "#         predictions[actor][feature] /= avg_likelihood[feature]"
   ]
  },
  {
   "cell_type": "code",
   "execution_count": 22,
   "metadata": {
    "collapsed": true
   },
   "outputs": [],
   "source": [
    "def score(feature, rectangles, saliency_map):\n",
    "    intensity_ratio_sum = 0\n",
    "    for rec in rectangles[feature]:\n",
    "        highlight = saliency_map[rec[2]:rec[3], rec[0]:rec[1]]\n",
    "        area = (rec[3]-rec[2])*(rec[1]-rec[0])\n",
    "        intensity_ratio = (np.sum(highlight))/np.sum(saliency_map)\n",
    "        intensity_ratio_sum += intensity_ratio\n",
    "    return intensity_ratio_sum/len(rectangles[feature])"
   ]
  },
  {
   "cell_type": "code",
   "execution_count": 23,
   "metadata": {
    "collapsed": true
   },
   "outputs": [],
   "source": [
    "scores = {}\n",
    "deviations = {}\n",
    "for actor in test_set.keys():\n",
    "    scores[actor] = {}\n",
    "    deviations[actor] = {}\n",
    "    for feature in features:\n",
    "        scores[actor][feature] = score(feature, mc_rectangle_samples, actor_true_saliencies[actor])\n",
    "\n",
    "for feature in features:\n",
    "    feature_scores = [scores[actor][feature] for actor in test_set.keys()]\n",
    "    avg_feature_score = sum(feature_scores)/len(feature_scores)\n",
    "    for actor in test_set.keys():\n",
    "        deviations[actor][feature] = scores[actor][feature]/avg_feature_score"
   ]
  },
  {
   "cell_type": "code",
   "execution_count": 24,
   "metadata": {
    "scrolled": true
   },
   "outputs": [
    {
     "data": {
      "text/plain": [
       "{'Alec Baldwin': {'beard': 0.82108824137037961,\n",
       "  'eye brows': 0.89326465193247861,\n",
       "  'eyes': 0.90015445950868744,\n",
       "  'hairline': 1.3119778939621558,\n",
       "  'lips': 0.87657994246183557,\n",
       "  'moustache': 0.87775668057931078,\n",
       "  'nose': 0.97301834258832698},\n",
       " 'America Ferrera': {'beard': 1.2583167434706639,\n",
       "  'eye brows': 0.6625990416422719,\n",
       "  'eyes': 0.67668228501215011,\n",
       "  'hairline': 0.53172977510923014,\n",
       "  'lips': 1.4780919036146023,\n",
       "  'moustache': 1.5280526285654408,\n",
       "  'nose': 1.6092581405698054},\n",
       " 'Angie Harmon': {'beard': 0.91758252743330904,\n",
       "  'eye brows': 1.1536288292235781,\n",
       "  'eyes': 1.129970736258753,\n",
       "  'hairline': 0.70862451736580701,\n",
       "  'lips': 1.0701123080163957,\n",
       "  'moustache': 1.0169080522926353,\n",
       "  'nose': 1.0920379434050822},\n",
       " 'Anne Hathaway': {'beard': 1.4749561823100854,\n",
       "  'eye brows': 0.91141133768819149,\n",
       "  'eyes': 0.89835711356585235,\n",
       "  'hairline': 0.78185892413894931,\n",
       "  'lips': 1.7484987169198851,\n",
       "  'moustache': 1.6941284324152577,\n",
       "  'nose': 1.122411654684738},\n",
       " 'Bill Hader': {'beard': 0.70043522393039914,\n",
       "  'eye brows': 0.88803701911534572,\n",
       "  'eyes': 1.0379363448833128,\n",
       "  'hairline': 1.0620658791248383,\n",
       "  'lips': 0.82961649279403804,\n",
       "  'moustache': 0.83115202983950742,\n",
       "  'nose': 0.9712850941483322},\n",
       " 'Cheryl Hines': {'beard': 1.5452173051781746,\n",
       "  'eye brows': 0.90021923846758933,\n",
       "  'eyes': 1.0380880364898153,\n",
       "  'hairline': 0.77597859978711392,\n",
       "  'lips': 1.0502739114926245,\n",
       "  'moustache': 0.82445996672806532,\n",
       "  'nose': 0.86255623490229227},\n",
       " 'Daniel Radcliffe': {'beard': 0.41439412549956306,\n",
       "  'eye brows': 1.2188731406888245,\n",
       "  'eyes': 1.3957593801284518,\n",
       "  'hairline': 1.4183205447680312,\n",
       "  'lips': 0.60283440337059935,\n",
       "  'moustache': 0.70772432456459688,\n",
       "  'nose': 0.88600368908997729},\n",
       " 'Fran Drescher': {'beard': 1.4294710417177505,\n",
       "  'eye brows': 1.3614230962113005,\n",
       "  'eyes': 1.1457970608753276,\n",
       "  'hairline': 0.76188729874652206,\n",
       "  'lips': 1.2819331678154278,\n",
       "  'moustache': 1.1216304788517579,\n",
       "  'nose': 1.0130014295888843},\n",
       " 'Gerard Butler': {'beard': 1.1878720079934681,\n",
       "  'eye brows': 0.63100730162804286,\n",
       "  'eyes': 0.68999272449719351,\n",
       "  'hairline': 0.77226489705076518,\n",
       "  'lips': 1.3355661344018248,\n",
       "  'moustache': 1.399256443618621,\n",
       "  'nose': 1.1332721258925869},\n",
       " 'Jennifer Aniston': {'beard': 1.0688363441741375,\n",
       "  'eye brows': 0.61374855790899074,\n",
       "  'eyes': 0.55232410884189764,\n",
       "  'hairline': 0.87323701682609534,\n",
       "  'lips': 0.83037821951150947,\n",
       "  'moustache': 0.82647294940845195,\n",
       "  'nose': 0.67667905364420078},\n",
       " 'Kristin Chenoweth': {'beard': 1.1841255294374216,\n",
       "  'eye brows': 0.98731886879790853,\n",
       "  'eyes': 0.8727242259802227,\n",
       "  'hairline': 0.92386940627820491,\n",
       "  'lips': 0.95759451598251821,\n",
       "  'moustache': 0.90165217325942026,\n",
       "  'nose': 0.55057344046560242},\n",
       " 'Lorraine Bracco': {'beard': 0.68555869594142615,\n",
       "  'eye brows': 1.1705306691742488,\n",
       "  'eyes': 0.9542744320128228,\n",
       "  'hairline': 1.5205671478465881,\n",
       "  'lips': 0.69555964354425737,\n",
       "  'moustache': 0.60704206151995022,\n",
       "  'nose': 0.71954447217045647},\n",
       " 'Matt Damon': {'beard': 0.72640664149098078,\n",
       "  'eye brows': 1.2055223493207481,\n",
       "  'eyes': 1.2443452095905139,\n",
       "  'hairline': 1.000554358587123,\n",
       "  'lips': 0.71673987810505513,\n",
       "  'moustache': 0.84504886716829142,\n",
       "  'nose': 1.1064736605621701},\n",
       " 'Michael Vartan': {'beard': 0.56753094814655791,\n",
       "  'eye brows': 0.95065420223711627,\n",
       "  'eyes': 0.77854020486526765,\n",
       "  'hairline': 1.3366049236427613,\n",
       "  'lips': 0.88578943006681821,\n",
       "  'moustache': 1.0369968622080319,\n",
       "  'nose': 1.0487461900321207},\n",
       " 'Nicolas Cage': {'beard': 1.4335066124668603,\n",
       "  'eye brows': 1.2869784388135224,\n",
       "  'eyes': 1.3975183041841146,\n",
       "  'hairline': 0.89024900876991708,\n",
       "  'lips': 0.8685051102797533,\n",
       "  'moustache': 0.89453732068219083,\n",
       "  'nose': 1.0623840932209934},\n",
       " 'Selena Gomez': {'beard': 0.66715446186683203,\n",
       "  'eye brows': 0.73811225165305028,\n",
       "  'eyes': 0.85871919861277313,\n",
       "  'hairline': 0.79881545245753838,\n",
       "  'lips': 1.1342666248878646,\n",
       "  'moustache': 1.369815783131648,\n",
       "  'nose': 1.5523987378314688},\n",
       " 'Steve Carell': {'beard': 0.91754736757199096,\n",
       "  'eye brows': 1.4266710054967917,\n",
       "  'eyes': 1.4288161746928454,\n",
       "  'hairline': 1.5313943555383596,\n",
       "  'lips': 0.63765959673498884,\n",
       "  'moustache': 0.5173649451668233,\n",
       "  'nose': 0.62035569720296402}}"
      ]
     },
     "execution_count": 24,
     "metadata": {},
     "output_type": "execute_result"
    }
   ],
   "source": [
    "deviations"
   ]
  },
  {
   "cell_type": "code",
   "execution_count": 25,
   "metadata": {
    "scrolled": false
   },
   "outputs": [
    {
     "name": "stdout",
     "output_type": "stream",
     "text": [
      "beard\n"
     ]
    },
    {
     "data": {
      "image/png": "[encoded data removed]",
      "text/plain": [
       "<matplotlib.figure.Figure at 0x7eff989769e8>"
      ]
     },
     "metadata": {},
     "output_type": "display_data"
    },
    {
     "name": "stdout",
     "output_type": "stream",
     "text": [
      "(-0.096697379740590769, 0.71198450789002155)\n",
      "eye brows\n"
     ]
    },
    {
     "data": {
      "image/png": "[encoded data removed]",
      "text/plain": [
       "<matplotlib.figure.Figure at 0x7eff90b3b080>"
      ]
     },
     "metadata": {},
     "output_type": "display_data"
    },
    {
     "name": "stdout",
     "output_type": "stream",
     "text": [
      "(0.53682331099745551, 0.026292348556756988)\n",
      "eyes\n"
     ]
    },
    {
     "data": {
      "image/png": "[encoded data removed]",
      "text/plain": [
       "<matplotlib.figure.Figure at 0x7eff8d1fd978>"
      ]
     },
     "metadata": {},
     "output_type": "display_data"
    },
    {
     "name": "stdout",
     "output_type": "stream",
     "text": [
      "(-0.15327172839362929, 0.55699722111066796)\n",
      "hairline\n"
     ]
    },
    {
     "data": {
      "image/png": "[encoded data removed]",
      "text/plain": [
       "<matplotlib.figure.Figure at 0x7eff8d183ef0>"
      ]
     },
     "metadata": {},
     "output_type": "display_data"
    },
    {
     "name": "stdout",
     "output_type": "stream",
     "text": [
      "(0.38685832668062581, 0.12502607811701139)\n",
      "lips\n"
     ]
    },
    {
     "data": {
      "image/png": "[encoded data removed]",
      "text/plain": [
       "<matplotlib.figure.Figure at 0x7eff8d1fdba8>"
      ]
     },
     "metadata": {},
     "output_type": "display_data"
    },
    {
     "name": "stdout",
     "output_type": "stream",
     "text": [
      "(0.54420115974089278, 0.023919058957639006)\n",
      "moustache\n"
     ]
    },
    {
     "data": {
      "image/png": "[encoded data removed]",
      "text/plain": [
       "<matplotlib.figure.Figure at 0x7eff90b32cf8>"
      ]
     },
     "metadata": {},
     "output_type": "display_data"
    },
    {
     "name": "stdout",
     "output_type": "stream",
     "text": [
      "(0.14088723278061907, 0.58964598007147884)\n",
      "nose\n"
     ]
    },
    {
     "data": {
      "image/png": "[encoded data removed]",
      "text/plain": [
       "<matplotlib.figure.Figure at 0x7eff8cfae8d0>"
      ]
     },
     "metadata": {},
     "output_type": "display_data"
    },
    {
     "name": "stdout",
     "output_type": "stream",
     "text": [
      "(-0.12155066944384788, 0.64213039956429618)\n"
     ]
    }
   ],
   "source": [
    "from scipy.stats import pearsonr\n",
    "for feature in features:\n",
    "    print(feature)\n",
    "    turker_dev = np.array([turker_deviations[actor][feature] for actor in sorted(test_set.keys())])\n",
    "    bp_dev = np.array([deviations[actor][feature] for actor in sorted(test_set.keys())])\n",
    "    plt.scatter(turker_dev, bp_dev)\n",
    "    plt.show()\n",
    "    print(pearsonr(turker_dev, bp_dev))"
   ]
  },
  {
   "cell_type": "code",
   "execution_count": 64,
   "metadata": {},
   "outputs": [
    {
     "name": "stdout",
     "output_type": "stream",
     "text": [
      "Alec Baldwin\n",
      "(0.53574818010618319, 0.21518281361643612)\n",
      "America Ferrera\n",
      "(0.015427937976684021, 0.97381183596217502)\n",
      "Angie Harmon\n",
      "(0.58253541499653982, 0.16992862044572646)\n",
      "Anne Hathaway\n",
      "(0.26293088496398909, 0.56890253210663133)\n",
      "Bill Hader\n",
      "(0.68137017921263798, 0.091877201449580892)\n",
      "Cheryl Hines\n",
      "(-0.21806229213756437, 0.63854439477045155)\n",
      "Daniel Radcliffe\n",
      "(0.300541841255965, 0.51251139055375217)\n",
      "Fran Drescher\n",
      "(0.20707119607055818, 0.65595293775069452)\n",
      "Gerard Butler\n",
      "(0.41939729836076001, 0.34893791911560007)\n",
      "Jennifer Aniston\n",
      "(-0.24644286495928416, 0.59421379764992921)\n",
      "Kristin Chenoweth\n",
      "(-0.68396580447831179, 0.090157871487947086)\n",
      "Lorraine Bracco\n",
      "(-0.19356793851470369, 0.67751039622959464)\n",
      "Matt Damon\n",
      "(0.47329522861889672, 0.28339303672598348)\n",
      "Michael Vartan\n",
      "(0.44035985334840383, 0.32274582505835991)\n",
      "Nicolas Cage\n",
      "(-0.47553864566310622, 0.28079496504561646)\n",
      "Selena Gomez\n",
      "(0.28811225154115916, 0.53093049816783999)\n",
      "Steve Carell\n",
      "(0.47456677546886183, 0.2819191607664413)\n"
     ]
    }
   ],
   "source": [
    "for actor in sorted(test_set.keys()):\n",
    "    print(actor)\n",
    "    turker_dev = np.array([turker_deviations[actor][feature] for feature in features])\n",
    "    bp_dev = np.array([deviations[actor][feature] for feature in features])\n",
    "    print(pearsonr(turker_dev, bp_dev))"
   ]
  },
  {
   "cell_type": "code",
   "execution_count": null,
   "metadata": {
    "collapsed": true
   },
   "outputs": [],
   "source": []
  },
  {
   "cell_type": "code",
   "execution_count": null,
   "metadata": {
    "collapsed": true
   },
   "outputs": [],
   "source": []
  },
  {
   "cell_type": "code",
   "execution_count": null,
   "metadata": {
    "collapsed": true
   },
   "outputs": [],
   "source": []
  },
  {
   "cell_type": "code",
   "execution_count": null,
   "metadata": {
    "collapsed": true
   },
   "outputs": [],
   "source": []
  },
  {
   "cell_type": "code",
   "execution_count": null,
   "metadata": {
    "collapsed": true
   },
   "outputs": [],
   "source": []
  },
  {
   "cell_type": "code",
   "execution_count": null,
   "metadata": {
    "collapsed": true
   },
   "outputs": [],
   "source": []
  },
  {
   "cell_type": "code",
   "execution_count": 39,
   "metadata": {
    "collapsed": true
   },
   "outputs": [],
   "source": [
    "def likelihood(deviations):    \n",
    "    probs = {}\n",
    "    for actor in test_set.keys():\n",
    "        probs[actor] = {}\n",
    "        sum_deviations = np.sum(np.array(list(deviations[actor].values())))\n",
    "        for feature in features:\n",
    "            probs[actor][feature] = deviations[actor][feature]/sum_deviations\n",
    "    return probs"
   ]
  },
  {
   "cell_type": "code",
   "execution_count": 40,
   "metadata": {
    "collapsed": true
   },
   "outputs": [],
   "source": [
    "predictions = likelihood(deviations)"
   ]
  },
  {
   "cell_type": "code",
   "execution_count": 41,
   "metadata": {
    "collapsed": true
   },
   "outputs": [],
   "source": [
    "def posterior(rectangles, saliency_map, test_subject):\n",
    "    scores = {}\n",
    "    prior = create_individual_prior(test_subject)\n",
    "    for feature in features:\n",
    "#         intensity_ratio_sum = 0\n",
    "#         for rec in rectangles[feature]:\n",
    "#             highlight = saliency_map[rec[2]:rec[3], rec[0]:rec[1]]\n",
    "#             area = (rec[3]-rec[2])*(rec[1]-rec[0])\n",
    "#             intensity_ratio = (np.sum(highlight)/area)/np.sum(saliency_map)/(227**2)\n",
    "#             intensity_ratio_sum += intensity_ratio\n",
    "#         scores[feature] = prior[feature]*intensity_ratio_sum/len(rectangles[feature])\n",
    "        scores[feature] = prior[feature]*deviations[test_subject][feature]\n",
    "    sum_scores = np.sum(np.array(list(scores.values())))\n",
    "    probs = {}\n",
    "    \n",
    "    for feature in sorted(scores.keys()):\n",
    "        probs[feature] = scores[feature]/sum_scores\n",
    "    \n",
    "    return probs"
   ]
  },
  {
   "cell_type": "code",
   "execution_count": 42,
   "metadata": {
    "collapsed": true
   },
   "outputs": [],
   "source": [
    "posterior_predictions = {}\n",
    "for actor in sorted(test_set.keys()):\n",
    "    saliency_map = actor_true_saliencies[actor]\n",
    "    probs = posterior(mc_rectangle_samples, saliency_map, actor)\n",
    "    posterior_predictions[actor]=probs"
   ]
  },
  {
   "cell_type": "code",
   "execution_count": 19,
   "metadata": {
    "collapsed": true
   },
   "outputs": [],
   "source": [
    "# main problems are with turker data\n",
    "# maybe imbalanced, also tend to label similar feature\n",
    "# maybe should try new set of actors who have very distinct features to do anchoring\n",
    "# people choocse what seems to get highlighted in that image, but not what is salient about the person\n",
    "# probaly better to frame questionas as what is salient about this individual"
   ]
  },
  {
   "cell_type": "code",
   "execution_count": 43,
   "metadata": {},
   "outputs": [
    {
     "name": "stdout",
     "output_type": "stream",
     "text": [
      "Alec Baldwin\n",
      "America Ferrera\n",
      "Angie Harmon\n",
      "Anne Hathaway\n",
      "Bill Hader\n",
      "Cheryl Hines\n",
      "Daniel Radcliffe\n",
      "Fran Drescher\n",
      "Gerard Butler\n",
      "Jennifer Aniston\n",
      "Kristin Chenoweth\n",
      "Lorraine Bracco\n",
      "Matt Damon\n",
      "Michael Vartan\n",
      "Nicolas Cage\n",
      "Selena Gomez\n",
      "Steve Carell\n"
     ]
    }
   ],
   "source": [
    "import operator\n",
    "\n",
    "actors = sorted(test_set.keys())\n",
    "\n",
    "f, axes = plt.subplots(17, 4, figsize=(60,170))\n",
    "\n",
    "for i in range(len(actors)):\n",
    "    actor = actors[i]\n",
    "    ax = axes[i]\n",
    "\n",
    "    ax[0].set_title(actor)\n",
    "    ax[0].axis('off')\n",
    "    ax[0].imshow(actor_true_saliencies[actor])\n",
    "        \n",
    "    prediction = posterior_predictions[actor]\n",
    "    turker_data = actor_stats_normalized[actor]\n",
    "    sorted_turker_data = sorted(turker_data.items(), key=operator.itemgetter(1))\n",
    "    sorted_turker_data.reverse()\n",
    "    \n",
    "    X = np.arange(len(turker_data))\n",
    "    ax[1].set_ylim([0, 0.7])\n",
    "    ax[1].bar(X, [prediction[key[0]] for key in sorted_turker_data],\\\n",
    "           width=0.2, color='b', align='center', label='Posterior Prediction')\n",
    "    ax[1].bar(X-0.2, [turker_data[key[0]] for key in sorted_turker_data],\\\n",
    "           width=0.2, color='g', align='center', label='Turkers')\n",
    "    ax[1].legend()\n",
    "    ax[1].set_xticks(X)\n",
    "    ax[1].set_xticklabels([key[0] for key in sorted_turker_data])\n",
    "    ax[1].set_title('turkers vs posterior', fontsize=17)\n",
    "    \n",
    "    \n",
    "    prediction = create_individual_prior(actor)\n",
    "    X = np.arange(len(turker_data))\n",
    "    ax[2].set_ylim([0, 0.7])\n",
    "    ax[2].bar(X, [prediction[key[0]] for key in sorted_turker_data],\\\n",
    "           width=0.2, color='b', align='center', label='Prior Prediction')\n",
    "    ax[2].bar(X-0.2, [turker_data[key[0]] for key in sorted_turker_data],\\\n",
    "           width=0.2, color='g', align='center', label='Turkers')\n",
    "    ax[2].legend()\n",
    "    ax[2].set_xticks(X)\n",
    "    ax[2].set_xticklabels([key[0] for key in sorted_turker_data])\n",
    "    ax[2].set_title('turkers vs prior', fontsize=17)\n",
    "    \n",
    "    prediction = predictions[actor]\n",
    "    X = np.arange(len(turker_data))\n",
    "    ax[3].set_ylim([0, 0.7])\n",
    "    ax[3].bar(X, [prediction[key[0]] for key in sorted_turker_data],\\\n",
    "           width=0.2, color='b', align='center', label='Backprop Prediction')\n",
    "    ax[3].bar(X-0.2, [turker_data[key[0]] for key in sorted_turker_data],\\\n",
    "           width=0.2, color='g', align='center', label='Turkers')\n",
    "    ax[3].legend()\n",
    "    ax[3].set_xticks(X)\n",
    "    ax[3].set_xticklabels([key[0] for key in sorted_turker_data])\n",
    "    ax[3].set_title('turkers vs backprop', fontsize=17)\n",
    "\n",
    "    print(actor)\n",
    "    \n",
    "    \n",
    "plt.savefig('genderless_robust_predictions_size_feature_normalized.png')\n",
    "plt.close()"
   ]
  },
  {
   "cell_type": "code",
   "execution_count": 44,
   "metadata": {},
   "outputs": [
    {
     "name": "stdout",
     "output_type": "stream",
     "text": [
      "Alec Baldwin\n",
      "SpearmanrResult(correlation=0.92857142857142883, pvalue=0.0025194724037946874)\n",
      "America Ferrera\n",
      "SpearmanrResult(correlation=0.85714285714285732, pvalue=0.01369732661532562)\n",
      "Angie Harmon\n",
      "SpearmanrResult(correlation=0.8928571428571429, pvalue=0.0068071874089353918)\n",
      "Anne Hathaway\n",
      "SpearmanrResult(correlation=0.95499371045729253, pvalue=0.00080553533630175773)\n",
      "Bill Hader\n",
      "SpearmanrResult(correlation=0.92857142857142883, pvalue=0.0025194724037946874)\n",
      "Cheryl Hines\n",
      "SpearmanrResult(correlation=0.92857142857142883, pvalue=0.0025194724037946874)\n",
      "Daniel Radcliffe\n",
      "SpearmanrResult(correlation=0.85714285714285732, pvalue=0.01369732661532562)\n",
      "Fran Drescher\n",
      "SpearmanrResult(correlation=0.82142857142857151, pvalue=0.023448808345691505)\n",
      "Gerard Butler\n",
      "SpearmanrResult(correlation=0.32142857142857151, pvalue=0.4820720382996776)\n",
      "Jennifer Aniston\n",
      "SpearmanrResult(correlation=0.92857142857142883, pvalue=0.0025194724037946874)\n",
      "Kristin Chenoweth\n",
      "SpearmanrResult(correlation=0.92857142857142883, pvalue=0.0025194724037946874)\n",
      "Lorraine Bracco\n",
      "SpearmanrResult(correlation=0.77480621791818072, pvalue=0.040769462520420331)\n",
      "Matt Damon\n",
      "SpearmanrResult(correlation=0.95499371045729253, pvalue=0.00080553533630175773)\n",
      "Michael Vartan\n",
      "SpearmanrResult(correlation=0.39641248358604603, pvalue=0.378634709500413)\n",
      "Nicolas Cage\n",
      "SpearmanrResult(correlation=0.96428571428571452, pvalue=0.00045414916919416892)\n",
      "Selena Gomez\n",
      "SpearmanrResult(correlation=0.92857142857142883, pvalue=0.0025194724037946874)\n",
      "Steve Carell\n",
      "SpearmanrResult(correlation=0.60714285714285721, pvalue=0.14823116148116139)\n",
      "correlation\n",
      "0.822003721487\n",
      "pvalue\n",
      "0.0661494161795\n"
     ]
    }
   ],
   "source": [
    "from scipy.stats import spearmanr\n",
    "cors = []\n",
    "pvals = []\n",
    "for actor in sorted(test_set.keys()):\n",
    "    print(actor)\n",
    "    turker_data = actor_stats[actor]\n",
    "    sorted_turker_data = sorted(turker_data.items(), key=operator.itemgetter(1))\n",
    "    prediction = posterior_predictions[actor]\n",
    "    predicted = np.array([prediction[key[0]] for key in sorted_turker_data])\n",
    "    turker = np.array([turker_data[key[0]] for key in sorted_turker_data])\n",
    "    cor, pval = spearmanr(predicted, turker) \n",
    "    cors.append(cor)\n",
    "    pvals.append(pval)\n",
    "    print(spearmanr(predicted, turker))\n",
    "print('correlation')\n",
    "print(np.mean(np.array(cors)))    \n",
    "print('pvalue')\n",
    "print(np.mean(np.array(pvals)))"
   ]
  },
  {
   "cell_type": "code",
   "execution_count": 45,
   "metadata": {},
   "outputs": [
    {
     "name": "stdout",
     "output_type": "stream",
     "text": [
      "Alec Baldwin\n",
      "SpearmanrResult(correlation=0.96428571428571452, pvalue=0.00045414916919416892)\n",
      "America Ferrera\n",
      "SpearmanrResult(correlation=0.92857142857142883, pvalue=0.0025194724037946874)\n",
      "Angie Harmon\n",
      "SpearmanrResult(correlation=0.8928571428571429, pvalue=0.0068071874089353918)\n",
      "Anne Hathaway\n",
      "SpearmanrResult(correlation=0.9189562119494703, pvalue=0.0034366261562175319)\n",
      "Bill Hader\n",
      "SpearmanrResult(correlation=0.92857142857142883, pvalue=0.0025194724037946874)\n",
      "Cheryl Hines\n",
      "SpearmanrResult(correlation=0.92857142857142883, pvalue=0.0025194724037946874)\n",
      "Daniel Radcliffe\n",
      "SpearmanrResult(correlation=0.8928571428571429, pvalue=0.0068071874089353918)\n",
      "Fran Drescher\n",
      "SpearmanrResult(correlation=0.8928571428571429, pvalue=0.0068071874089353918)\n",
      "Gerard Butler\n",
      "SpearmanrResult(correlation=0.42857142857142866, pvalue=0.33736831108582399)\n",
      "Jennifer Aniston\n",
      "SpearmanrResult(correlation=0.8928571428571429, pvalue=0.0068071874089353918)\n",
      "Kristin Chenoweth\n",
      "SpearmanrResult(correlation=0.96428571428571452, pvalue=0.00045414916919416892)\n",
      "Lorraine Bracco\n",
      "SpearmanrResult(correlation=0.90093746269555897, pvalue=0.0056205867153450136)\n",
      "Matt Damon\n",
      "SpearmanrResult(correlation=0.95499371045729253, pvalue=0.00080553533630175773)\n",
      "Michael Vartan\n",
      "SpearmanrResult(correlation=0.63065622388689135, pvalue=0.12888769568495784)\n",
      "Nicolas Cage\n",
      "SpearmanrResult(correlation=0.96428571428571452, pvalue=0.00045414916919416892)\n",
      "Selena Gomez\n",
      "SpearmanrResult(correlation=0.8928571428571429, pvalue=0.0068071874089353918)\n",
      "Steve Carell\n",
      "SpearmanrResult(correlation=0.82142857142857151, pvalue=0.023448808345691505)\n",
      "correlation\n",
      "0.870494161873\n",
      "pvalue\n",
      "0.0319131979464\n"
     ]
    }
   ],
   "source": [
    "from scipy.stats import spearmanr\n",
    "cors = []\n",
    "pvals = []\n",
    "for actor in sorted(test_set.keys()):\n",
    "    print(actor)\n",
    "    turker_data = actor_stats[actor]\n",
    "    sorted_turker_data = sorted(turker_data.items(), key=operator.itemgetter(1))\n",
    "    prediction = create_individual_prior(actor)\n",
    "    predicted = np.array([prediction[key[0]] for key in sorted_turker_data])\n",
    "    turker = np.array([turker_data[key[0]] for key in sorted_turker_data])\n",
    "    cor, pval = spearmanr(predicted, turker) \n",
    "    cors.append(cor)\n",
    "    pvals.append(pval)\n",
    "    print(spearmanr(predicted, turker))\n",
    "print('correlation')\n",
    "print(np.mean(np.array(cors)))    \n",
    "print('pvalue')\n",
    "print(np.mean(np.array(pvals)))"
   ]
  },
  {
   "cell_type": "code",
   "execution_count": 46,
   "metadata": {},
   "outputs": [
    {
     "name": "stdout",
     "output_type": "stream",
     "text": [
      "Alec Baldwin\n",
      "SpearmanrResult(correlation=0.071428571428571438, pvalue=0.87904819314815408)\n",
      "America Ferrera\n",
      "SpearmanrResult(correlation=0.035714285714285719, pvalue=0.93940820547128556)\n",
      "Angie Harmon\n",
      "SpearmanrResult(correlation=0.75000000000000022, pvalue=0.052181400457057762)\n",
      "Anne Hathaway\n",
      "SpearmanrResult(correlation=-0.018018749253911181, pvalue=0.96941538680319872)\n",
      "Bill Hader\n",
      "SpearmanrResult(correlation=0.5, pvalue=0.25316999510032273)\n",
      "Cheryl Hines\n",
      "SpearmanrResult(correlation=0.32142857142857151, pvalue=0.4820720382996776)\n",
      "Daniel Radcliffe\n",
      "SpearmanrResult(correlation=0.42857142857142866, pvalue=0.33736831108582399)\n",
      "Fran Drescher\n",
      "SpearmanrResult(correlation=0.035714285714285719, pvalue=0.93940820547128556)\n",
      "Gerard Butler\n",
      "SpearmanrResult(correlation=0.071428571428571438, pvalue=0.87904819314815408)\n",
      "Jennifer Aniston\n",
      "SpearmanrResult(correlation=-0.32142857142857151, pvalue=0.4820720382996776)\n",
      "Kristin Chenoweth\n",
      "SpearmanrResult(correlation=-0.5, pvalue=0.25316999510032273)\n",
      "Lorraine Bracco\n",
      "SpearmanrResult(correlation=0.39641248358604603, pvalue=0.378634709500413)\n",
      "Matt Damon\n",
      "SpearmanrResult(correlation=0.34235623582431246, pvalue=0.45225122159090575)\n",
      "Michael Vartan\n",
      "SpearmanrResult(correlation=-0.3783937343321348, pvalue=0.402602201921755)\n",
      "Nicolas Cage\n",
      "SpearmanrResult(correlation=0.14285714285714288, pvalue=0.75994530021809292)\n",
      "Selena Gomez\n",
      "SpearmanrResult(correlation=0.46428571428571441, pvalue=0.29393410760025168)\n",
      "Steve Carell\n",
      "SpearmanrResult(correlation=0.14285714285714288, pvalue=0.75994530021809292)\n",
      "correlation\n",
      "0.146189022275\n",
      "pvalue\n",
      "0.559627929614\n"
     ]
    }
   ],
   "source": [
    "from scipy.stats import spearmanr\n",
    "cors = []\n",
    "pvals = []\n",
    "for actor in sorted(test_set.keys()):\n",
    "    print(actor)\n",
    "    turker_data = actor_stats[actor]\n",
    "    sorted_turker_data = sorted(turker_data.items(), key=operator.itemgetter(1))\n",
    "    prediction = predictions[actor]\n",
    "    predicted = np.array([prediction[key[0]] for key in sorted_turker_data])\n",
    "    turker = np.array([turker_data[key[0]] for key in sorted_turker_data])\n",
    "    cor, pval = spearmanr(predicted, turker) \n",
    "    cors.append(cor)\n",
    "    pvals.append(pval)\n",
    "    print(spearmanr(predicted, turker))\n",
    "print('correlation')\n",
    "print(np.mean(np.array(cors)))    \n",
    "print('pvalue')\n",
    "print(np.mean(np.array(pvals)))"
   ]
  },
  {
   "cell_type": "code",
   "execution_count": null,
   "metadata": {
    "collapsed": true
   },
   "outputs": [],
   "source": []
  }
 ],
 "metadata": {
  "kernelspec": {
   "display_name": "Python [conda env:anaconda3]",
   "language": "python",
   "name": "conda-env-anaconda3-py"
  },
  "language_info": {
   "codemirror_mode": {
    "name": "ipython",
    "version": 3
   },
   "file_extension": ".py",
   "mimetype": "text/x-python",
   "name": "python",
   "nbconvert_exporter": "python",
   "pygments_lexer": "ipython3",
   "version": "3.6.0"
  }
 },
 "nbformat": 4,
 "nbformat_minor": 2
}
