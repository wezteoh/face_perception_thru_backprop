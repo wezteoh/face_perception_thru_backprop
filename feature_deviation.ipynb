{
 "cells": [
  {
   "cell_type": "code",
   "execution_count": 54,
   "metadata": {
    "collapsed": true
   },
   "outputs": [],
   "source": [
    "import numpy as np\n",
    "import tensorflow as tf\n",
    "import os"
   ]
  },
  {
   "cell_type": "code",
   "execution_count": 55,
   "metadata": {
    "collapsed": true
   },
   "outputs": [],
   "source": [
    "import matplotlib.pyplot as plt\n",
    "import _pickle\n",
    "import time"
   ]
  },
  {
   "cell_type": "code",
   "execution_count": 56,
   "metadata": {
    "collapsed": true
   },
   "outputs": [],
   "source": [
    "# todo\n",
    "# compare likelihoods\n",
    "# test with less popular features\n",
    "# use different priors\n",
    "# multiclass logistic regression significance tests\n",
    "# fit mixture of gaussian vs gaussian\n",
    "# check if weight activity killed\n",
    "# tansfer learning for new class and robustness"
   ]
  },
  {
   "cell_type": "code",
   "execution_count": 57,
   "metadata": {
    "collapsed": true
   },
   "outputs": [],
   "source": [
    "file = open('true_class_saliency_mask_vanilla_temp1_10.pkl', \"rb\")\n",
    "# file = open('mean_diff_saliency_mask_vanilla_temp1.pkl', \"rb\")\n",
    "true_saliencies = _pickle.load(file) \n",
    "file = open('mean.pkl', \"rb\")\n",
    "gaussian_means = _pickle.load(file) \n",
    "file = open('covariance.pkl', \"rb\")\n",
    "gaussian_covariances = _pickle.load(file)\n",
    "\n",
    "with open('turker_prob.pkl', \"rb\") as handle:\n",
    "    turkers = _pickle.load(handle) \n",
    "\n",
    "with open('test_set_17_227.pkl', \"rb\") as handle:\n",
    "    test_set = _pickle.load(handle) \n",
    "    \n",
    "# with open('turker_count.pkl', \"rb\") as handle:\n",
    "#     turker_count= _pickle.load(handle) "
   ]
  },
  {
   "cell_type": "code",
   "execution_count": 60,
   "metadata": {
    "collapsed": true
   },
   "outputs": [],
   "source": [
    "with open('new turker count.pkl', 'wb') as handle:\n",
    "    _pickle.dump(turker_count, handle)"
   ]
  },
  {
   "cell_type": "code",
   "execution_count": 38,
   "metadata": {},
   "outputs": [
    {
     "data": {
      "text/plain": [
       "(15, 227, 227)"
      ]
     },
     "execution_count": 38,
     "metadata": {},
     "output_type": "execute_result"
    }
   ],
   "source": [
    "true_saliencies['Alec Baldwin'].shape"
   ]
  },
  {
   "cell_type": "code",
   "execution_count": 39,
   "metadata": {
    "collapsed": true
   },
   "outputs": [],
   "source": [
    "actor_true_saliencies = {}\n",
    "\n",
    "for actor in true_saliencies:\n",
    "    actor_saliency = np.mean(true_saliencies[actor], axis=0)\n",
    "    actor_true_saliencies[actor] = actor_saliency"
   ]
  },
  {
   "cell_type": "code",
   "execution_count": 40,
   "metadata": {
    "collapsed": true
   },
   "outputs": [],
   "source": [
    "male_actors = ['Daniel Radcliffe', 'Gerard Butler', 'Michael Vartan', 'Alec Baldwin', 'Steve Carell',\\\n",
    "                    'Bill Hader', 'Fran Drescher', 'Matt Damon', 'Nicolas Cage']\n",
    "female_actors = ['Cheryl Hines', 'Selena Gomez', 'Angie Harmon', 'Lorraine Bracco', 'Kristin Chenoweth',\\\n",
    "                      'America Ferrera', 'Anne Hathaway', 'Jennifer Aniston']\n",
    "gender ={}\n",
    "for actor in male_actors:\n",
    "    gender[actor] = 'male'\n",
    "for actor in female_actors:\n",
    "    gender[actor] = 'female' "
   ]
  },
  {
   "cell_type": "code",
   "execution_count": 41,
   "metadata": {},
   "outputs": [
    {
     "ename": "ZeroDivisionError",
     "evalue": "division by zero",
     "output_type": "error",
     "traceback": [
      "\u001b[0;31m---------------------------------------------------------------------------\u001b[0m",
      "\u001b[0;31mZeroDivisionError\u001b[0m                         Traceback (most recent call last)",
      "\u001b[0;32m<ipython-input-41-328fde766690>\u001b[0m in \u001b[0;36m<module>\u001b[0;34m()\u001b[0m\n\u001b[1;32m     18\u001b[0m     \u001b[0mtotal_count\u001b[0m \u001b[0;34m=\u001b[0m \u001b[0msum\u001b[0m\u001b[0;34m(\u001b[0m\u001b[0mactor_stats\u001b[0m\u001b[0;34m[\u001b[0m\u001b[0mactor\u001b[0m\u001b[0;34m]\u001b[0m\u001b[0;34m.\u001b[0m\u001b[0mvalues\u001b[0m\u001b[0;34m(\u001b[0m\u001b[0;34m)\u001b[0m\u001b[0;34m)\u001b[0m\u001b[0;34m\u001b[0m\u001b[0m\n\u001b[1;32m     19\u001b[0m     \u001b[0;32mfor\u001b[0m \u001b[0mfeature\u001b[0m \u001b[0;32min\u001b[0m \u001b[0mfeatures\u001b[0m\u001b[0;34m:\u001b[0m\u001b[0;34m\u001b[0m\u001b[0m\n\u001b[0;32m---> 20\u001b[0;31m         \u001b[0mactor_stats_normalized\u001b[0m\u001b[0;34m[\u001b[0m\u001b[0mactor\u001b[0m\u001b[0;34m]\u001b[0m\u001b[0;34m[\u001b[0m\u001b[0mfeature\u001b[0m\u001b[0;34m]\u001b[0m \u001b[0;34m=\u001b[0m \u001b[0mactor_stats\u001b[0m\u001b[0;34m[\u001b[0m\u001b[0mactor\u001b[0m\u001b[0;34m]\u001b[0m\u001b[0;34m[\u001b[0m\u001b[0mfeature\u001b[0m\u001b[0;34m]\u001b[0m\u001b[0;34m/\u001b[0m\u001b[0mtotal_count\u001b[0m\u001b[0;34m\u001b[0m\u001b[0m\n\u001b[0m",
      "\u001b[0;31mZeroDivisionError\u001b[0m: division by zero"
     ]
    }
   ],
   "source": [
    "# creating turker count per actor\n",
    "features = ['beard', 'eye brows', 'eyes', 'hairline', 'lips', 'moustache', 'nose']\n",
    "actor_stats = {}\n",
    "for actor in test_set:\n",
    "    actor_stats[actor] = {}\n",
    "    for feature in features:\n",
    "        actor_stats[actor][feature] = 0  \n",
    "    for stats in turker_count[actor]:\n",
    "        for feature in features:\n",
    "            try:\n",
    "                 actor_stats[actor][feature] += stats[feature]\n",
    "            except:\n",
    "                continue\n",
    "\n",
    "actor_stats_normalized = {}\n",
    "for actor in actor_stats:\n",
    "    actor_stats_normalized[actor] = {}\n",
    "    total_count = sum(actor_stats[actor].values())\n",
    "    for feature in features:\n",
    "        actor_stats_normalized[actor][feature] = actor_stats[actor][feature]/total_count"
   ]
  },
  {
   "cell_type": "code",
   "execution_count": 42,
   "metadata": {
    "collapsed": true
   },
   "outputs": [],
   "source": [
    "# creating turker coiunt per actor\n",
    "features = ['beard', 'eye brows', 'eyes', 'hairline', 'lips', 'moustache', 'nose']\n",
    "# features = ['eye brows', 'eyes', 'lips', 'nose']\n",
    "actor_stats = {}\n",
    "for actor in test_set:\n",
    "    actor_stats[actor] = {}\n",
    "    for feature in features:\n",
    "        actor_stats[actor][feature] = 0  \n",
    "#     for stats in turker_count[actor]:\n",
    "#         for feature in features:\n",
    "#             try:\n",
    "#                  actor_stats[actor][feature] += stats[feature]\n",
    "#             except:\n",
    "#                 continue\n",
    "                \n",
    "    stats = turker_count[actor]\n",
    "    for feature in features:\n",
    "        try:\n",
    "             actor_stats[actor][feature] += stats[feature]\n",
    "        except:\n",
    "            continue\n",
    "\n",
    "actor_stats_normalized = {}\n",
    "for actor in actor_stats:\n",
    "    actor_stats_normalized[actor] = {}\n",
    "    total_count = sum(actor_stats[actor].values())\n",
    "    for feature in features:\n",
    "        actor_stats_normalized[actor][feature] = actor_stats[actor][feature]/total_count"
   ]
  },
  {
   "cell_type": "code",
   "execution_count": 43,
   "metadata": {
    "scrolled": false
   },
   "outputs": [
    {
     "data": {
      "text/plain": [
       "{'Alec Baldwin': {'beard': 0.014627659574468085,\n",
       "  'eye brows': 0.125,\n",
       "  'eyes': 0.3523936170212766,\n",
       "  'hairline': 0.061170212765957445,\n",
       "  'lips': 0.21808510638297873,\n",
       "  'moustache': 0.014627659574468085,\n",
       "  'nose': 0.21409574468085107},\n",
       " 'America Ferrera': {'beard': 0.0014388489208633094,\n",
       "  'eye brows': 0.1223021582733813,\n",
       "  'eyes': 0.22158273381294963,\n",
       "  'hairline': 0.0460431654676259,\n",
       "  'lips': 0.37410071942446044,\n",
       "  'moustache': 0.010071942446043165,\n",
       "  'nose': 0.22446043165467625},\n",
       " 'Angie Harmon': {'beard': 0.011347517730496455,\n",
       "  'eye brows': 0.1773049645390071,\n",
       "  'eyes': 0.29219858156028367,\n",
       "  'hairline': 0.03829787234042553,\n",
       "  'lips': 0.3049645390070922,\n",
       "  'moustache': 0.01276595744680851,\n",
       "  'nose': 0.16312056737588654},\n",
       " 'Anne Hathaway': {'beard': 0.0050568900126422255,\n",
       "  'eye brows': 0.11378002528445007,\n",
       "  'eyes': 0.32364096080910243,\n",
       "  'hairline': 0.05309734513274336,\n",
       "  'lips': 0.3944374209860936,\n",
       "  'moustache': 0.0025284450063211127,\n",
       "  'nose': 0.10745891276864729},\n",
       " 'Bill Hader': {'beard': 0.011826544021024968,\n",
       "  'eye brows': 0.16557161629434955,\n",
       "  'eyes': 0.354796320630749,\n",
       "  'hairline': 0.09329829172141918,\n",
       "  'lips': 0.20105124835742444,\n",
       "  'moustache': 0.01445466491458607,\n",
       "  'nose': 0.1590013140604468},\n",
       " 'Cheryl Hines': {'beard': 0.00804289544235925,\n",
       "  'eye brows': 0.06166219839142091,\n",
       "  'eyes': 0.3002680965147453,\n",
       "  'hairline': 0.064343163538874,\n",
       "  'lips': 0.4008042895442359,\n",
       "  'moustache': 0.004021447721179625,\n",
       "  'nose': 0.16085790884718498},\n",
       " 'Daniel Radcliffe': {'beard': 0.01844532279314888,\n",
       "  'eye brows': 0.23451910408432147,\n",
       "  'eyes': 0.33992094861660077,\n",
       "  'hairline': 0.08036890645586298,\n",
       "  'lips': 0.15678524374176547,\n",
       "  'moustache': 0.021080368906455864,\n",
       "  'nose': 0.14888010540184454},\n",
       " 'Fran Drescher': {'beard': 0.008174386920980926,\n",
       "  'eye brows': 0.16621253405994552,\n",
       "  'eyes': 0.279291553133515,\n",
       "  'hairline': 0.047683923705722074,\n",
       "  'lips': 0.3651226158038147,\n",
       "  'moustache': 0.014986376021798364,\n",
       "  'nose': 0.11852861035422343},\n",
       " 'Gerard Butler': {'beard': 0.21548387096774194,\n",
       "  'eye brows': 0.07354838709677419,\n",
       "  'eyes': 0.3496774193548387,\n",
       "  'hairline': 0.03354838709677419,\n",
       "  'lips': 0.09419354838709677,\n",
       "  'moustache': 0.08645161290322581,\n",
       "  'nose': 0.14709677419354839},\n",
       " 'Jennifer Aniston': {'beard': 0.010825439783491205,\n",
       "  'eye brows': 0.08660351826792964,\n",
       "  'eyes': 0.38294993234100133,\n",
       "  'hairline': 0.12719891745602166,\n",
       "  'lips': 0.2462787550744249,\n",
       "  'moustache': 0.005412719891745603,\n",
       "  'nose': 0.14073071718538566},\n",
       " 'Kristin Chenoweth': {'beard': 0.007173601147776184,\n",
       "  'eye brows': 0.08751793400286945,\n",
       "  'eyes': 0.351506456241033,\n",
       "  'hairline': 0.07890961262553801,\n",
       "  'lips': 0.33428981348637016,\n",
       "  'moustache': 0.010043041606886656,\n",
       "  'nose': 0.13055954088952654},\n",
       " 'Lorraine Bracco': {'beard': 0.011764705882352941,\n",
       "  'eye brows': 0.09117647058823529,\n",
       "  'eyes': 0.27058823529411763,\n",
       "  'hairline': 0.1,\n",
       "  'lips': 0.26176470588235295,\n",
       "  'moustache': 0.008823529411764706,\n",
       "  'nose': 0.25588235294117645},\n",
       " 'Matt Damon': {'beard': 0.017496635262449527,\n",
       "  'eye brows': 0.0955585464333782,\n",
       "  'eyes': 0.3001345895020188,\n",
       "  'hairline': 0.09152086137281291,\n",
       "  'lips': 0.26379542395693134,\n",
       "  'moustache': 0.018842530282637954,\n",
       "  'nose': 0.2126514131897712},\n",
       " 'Michael Vartan': {'beard': 0.13350785340314136,\n",
       "  'eye brows': 0.07068062827225131,\n",
       "  'eyes': 0.2683246073298429,\n",
       "  'hairline': 0.09424083769633508,\n",
       "  'lips': 0.11518324607329843,\n",
       "  'moustache': 0.06413612565445026,\n",
       "  'nose': 0.25392670157068065},\n",
       " 'Nicolas Cage': {'beard': 0.023968042609853527,\n",
       "  'eye brows': 0.13715046604527298,\n",
       "  'eyes': 0.322237017310253,\n",
       "  'hairline': 0.07989347536617843,\n",
       "  'lips': 0.18242343541944075,\n",
       "  'moustache': 0.02663115845539281,\n",
       "  'nose': 0.22769640479360853},\n",
       " 'Selena Gomez': {'beard': 0.004559270516717325,\n",
       "  'eye brows': 0.06990881458966565,\n",
       "  'eyes': 0.33890577507598785,\n",
       "  'hairline': 0.07750759878419453,\n",
       "  'lips': 0.364741641337386,\n",
       "  'moustache': 0.0121580547112462,\n",
       "  'nose': 0.13221884498480244},\n",
       " 'Steve Carell': {'beard': 0.0431266846361186,\n",
       "  'eye brows': 0.18194070080862534,\n",
       "  'eyes': 0.24393530997304583,\n",
       "  'hairline': 0.04986522911051213,\n",
       "  'lips': 0.18059299191374664,\n",
       "  'moustache': 0.03099730458221024,\n",
       "  'nose': 0.2695417789757412}}"
      ]
     },
     "execution_count": 43,
     "metadata": {},
     "output_type": "execute_result"
    }
   ],
   "source": [
    "actor_stats_normalized"
   ]
  },
  {
   "cell_type": "code",
   "execution_count": 44,
   "metadata": {
    "collapsed": true
   },
   "outputs": [],
   "source": [
    "average_turker_stats = {}\n",
    "for feature in features:\n",
    "    all_stats = [actor_stats_normalized[actor][feature] for actor in test_set.keys()]\n",
    "    average_turker_stats[feature] = sum(all_stats)/len(all_stats)"
   ]
  },
  {
   "cell_type": "code",
   "execution_count": 45,
   "metadata": {},
   "outputs": [
    {
     "data": {
      "text/plain": [
       "{'beard': 0.03216859821327217,\n",
       " 'eye brows': 0.12120223923716929,\n",
       " 'eyes': 0.3113148326189036,\n",
       " 'hairline': 0.07158751768452926,\n",
       " 'lips': 0.2622714555752302,\n",
       " 'moustache': 0.0210607611492483,\n",
       " 'nose': 0.18039459552164716}"
      ]
     },
     "execution_count": 45,
     "metadata": {},
     "output_type": "execute_result"
    }
   ],
   "source": [
    "average_turker_stats"
   ]
  },
  {
   "cell_type": "code",
   "execution_count": 46,
   "metadata": {
    "collapsed": true
   },
   "outputs": [],
   "source": [
    "turker_deviations = {}\n",
    "for actor in actor_stats_normalized:\n",
    "    turker_deviations[actor]={}\n",
    "    for feature in features:\n",
    "        turker_deviations[actor][feature] = actor_stats_normalized[actor][feature]/average_turker_stats[feature]\n",
    "        "
   ]
  },
  {
   "cell_type": "code",
   "execution_count": 47,
   "metadata": {
    "scrolled": false
   },
   "outputs": [
    {
     "data": {
      "text/plain": [
       "{'Alec Baldwin': {'beard': 0.4547185885281437,\n",
       "  'eye brows': 1.0313340808448204,\n",
       "  'eyes': 1.131952544813885,\n",
       "  'hairline': 0.8544815457287034,\n",
       "  'lips': 0.8315243681576434,\n",
       "  'moustache': 0.6945456278055827,\n",
       "  'nose': 1.186819062188367},\n",
       " 'America Ferrera': {'beard': 0.04472836868190504,\n",
       "  'eye brows': 1.0090750719057235,\n",
       "  'eyes': 0.7117641390514804,\n",
       "  'hairline': 0.6431730971665787,\n",
       "  'lips': 1.426387475541169,\n",
       "  'moustache': 0.47823259447594335,\n",
       "  'nose': 1.2442747023856446},\n",
       " 'Angie Harmon': {'beard': 0.35275138988849936,\n",
       "  'eye brows': 1.4628852210564827,\n",
       "  'eyes': 0.9385951164041673,\n",
       "  'hairline': 0.5349797503692751,\n",
       "  'lips': 1.162782043277355,\n",
       "  'moustache': 0.6061489115394176,\n",
       "  'nose': 0.9042430950006606},\n",
       " 'Anne Hathaway': {'beard': 0.1571995764041669,\n",
       "  'eye brows': 0.9387617423619098,\n",
       "  'eyes': 1.0395937709954473,\n",
       "  'hairline': 0.7417123382700865,\n",
       "  'lips': 1.5039281347678066,\n",
       "  'moustache': 0.12005477809672412,\n",
       "  'nose': 0.5956880939692694},\n",
       " 'Bill Hader': {'beard': 0.3676425047376032,\n",
       "  'eye brows': 1.3660772056393942,\n",
       "  'eyes': 1.1396704668584594,\n",
       "  'hairline': 1.303275972391788,\n",
       "  'lips': 0.7665769342548782,\n",
       "  'moustache': 0.6863315533637295,\n",
       "  'nose': 0.8814084124896457},\n",
       " 'Cheryl Hines': {'beard': 0.2500231868680215,\n",
       "  'eye brows': 0.5087546136070963,\n",
       "  'eyes': 0.9645158696383697,\n",
       "  'hairline': 0.8988042276087912,\n",
       "  'lips': 1.5282040078100259,\n",
       "  'moustache': 0.19094503245544658,\n",
       "  'nose': 0.8917002661971778},\n",
       " 'Daniel Radcliffe': {'beard': 0.5733952928523531,\n",
       "  'eye brows': 1.9349403572108355,\n",
       "  'eyes': 1.0918880599329341,\n",
       "  'hairline': 1.1226664795115735,\n",
       "  'lips': 0.5977975887535846,\n",
       "  'moustache': 1.0009310089539791,\n",
       "  'nose': 0.8253024707936946},\n",
       " 'Fran Drescher': {'beard': 0.2541107594053733,\n",
       "  'eye brows': 1.3713652083168184,\n",
       "  'eyes': 0.8971353879415379,\n",
       "  'hairline': 0.6660927106853297,\n",
       "  'lips': 1.392155372009527,\n",
       "  'moustache': 0.711578081893458,\n",
       "  'nose': 0.6570518923334382},\n",
       " 'Gerard Butler': {'beard': 6.698578207826205,\n",
       "  'eye brows': 0.6068236656325652,\n",
       "  'eyes': 1.1232276227034024,\n",
       "  'hairline': 0.46863459136290625,\n",
       "  'lips': 0.3591452534569787,\n",
       "  'moustache': 4.104866499865863,\n",
       "  'nose': 0.815416746650245},\n",
       " 'Jennifer Aniston': {'beard': 0.336521961936931,\n",
       "  'eye brows': 0.7145372792862625,\n",
       "  'eyes': 1.2301050005214174,\n",
       "  'hairline': 1.7768309555942399,\n",
       "  'lips': 0.93902233673989,\n",
       "  'moustache': 0.25700495121653255,\n",
       "  'nose': 0.7801271250861732},\n",
       " 'Kristin Chenoweth': {'beard': 0.22300011645569587,\n",
       "  'eye brows': 0.722081824178296,\n",
       "  'eyes': 1.1291028226442716,\n",
       "  'hairline': 1.1022817270082705,\n",
       "  'lips': 1.2745947238260633,\n",
       "  'moustache': 0.4768603345204887,\n",
       "  'nose': 0.7237441926238835},\n",
       " 'Lorraine Bracco': {'beard': 0.3657201909873412,\n",
       "  'eye brows': 0.7522672119103395,\n",
       "  'eyes': 0.8691787442886106,\n",
       "  'hairline': 1.396891570408663,\n",
       "  'lips': 0.998067842755645,\n",
       "  'moustache': 0.41895586532871515,\n",
       "  'nose': 1.4184590852139516},\n",
       " 'Matt Damon': {'beard': 0.5439041871346056,\n",
       "  'eye brows': 0.7884222852218815,\n",
       "  'eyes': 0.9640870207730479,\n",
       "  'hairline': 1.2784471976822216,\n",
       "  'lips': 1.0058106528533908,\n",
       "  'moustache': 0.8946747056817784,\n",
       "  'nose': 1.1788125502033306},\n",
       " 'Michael Vartan': {'beard': 4.150253999817079,\n",
       "  'eye brows': 0.5831627263415738,\n",
       "  'eyes': 0.8619075585721057,\n",
       "  'hairline': 1.3164423176626143,\n",
       "  'lips': 0.4391756846762882,\n",
       "  'moustache': 3.045290015871027,\n",
       "  'nose': 1.4076181209109988},\n",
       " 'Nicolas Cage': {'beard': 0.745075755273811,\n",
       "  'eye brows': 1.1315835986899228,\n",
       "  'eyes': 1.0350840485159916,\n",
       "  'hairline': 1.116025222696668,\n",
       "  'lips': 0.6955519998138503,\n",
       "  'moustache': 1.2644917373436586,\n",
       "  'nose': 1.26221300663237},\n",
       " 'Selena Gomez': {'beard': 0.14173046915162918,\n",
       "  'eye brows': 0.5767947443022703,\n",
       "  'eyes': 1.0886271374382592,\n",
       "  'hairline': 1.0826971138425807,\n",
       "  'lips': 1.3907027760127835,\n",
       "  'moustache': 0.5772846776565882,\n",
       "  'nose': 0.7329423844570572},\n",
       " 'Steve Carell': {'beard': 1.3406454440506308,\n",
       "  'eye brows': 1.5011331634938085,\n",
       "  'eyes': 0.7835646889066141,\n",
       "  'hairline': 0.6965631820097107,\n",
       "  'lips': 0.6885728052931219,\n",
       "  'moustache': 1.4718036239310657,\n",
       "  'nose': 1.4941787928640937}}"
      ]
     },
     "execution_count": 47,
     "metadata": {},
     "output_type": "execute_result"
    }
   ],
   "source": [
    "turker_deviations"
   ]
  },
  {
   "cell_type": "code",
   "execution_count": 48,
   "metadata": {
    "collapsed": true
   },
   "outputs": [],
   "source": [
    "-"
   ]
  },
  {
   "cell_type": "code",
   "execution_count": 49,
   "metadata": {
    "collapsed": true
   },
   "outputs": [],
   "source": [
    "# avg_intensity_ratios = {}\n",
    "# for feature in features:\n",
    "#     feature_intensity_ratios = [predictions[actor][feature] for actor in sorted(test_set.keys())] \n",
    "#     avg_likelihood[feature] = sum(feature_likelihoods)/len(feature_likelihoods)\n",
    "    \n",
    "# for actor in predictions:\n",
    "#     for feature in predictions[actor]:\n",
    "#         predictions[actor][feature] /= avg_likelihood[feature]"
   ]
  },
  {
   "cell_type": "code",
   "execution_count": 50,
   "metadata": {
    "collapsed": true
   },
   "outputs": [],
   "source": [
    "def score(feature, rectangles, saliency_map):\n",
    "    intensity_ratio_sum = 0\n",
    "    for rec in rectangles[feature]:\n",
    "        highlight = saliency_map[rec[2]:rec[3], rec[0]:rec[1]]\n",
    "        area = (rec[3]-rec[2])*(rec[1]-rec[0])\n",
    "        intensity_ratio = (np.sum(highlight))/np.sum(saliency_map)\n",
    "        intensity_ratio_sum += intensity_ratio\n",
    "    return intensity_ratio_sum/len(rectangles[feature])"
   ]
  },
  {
   "cell_type": "code",
   "execution_count": 51,
   "metadata": {
    "collapsed": true
   },
   "outputs": [],
   "source": [
    "scores = {}\n",
    "deviations = {}\n",
    "for actor in test_set.keys():\n",
    "    scores[actor] = {}\n",
    "    deviations[actor] = {}\n",
    "    for feature in features:\n",
    "        scores[actor][feature] = score(feature, mc_rectangle_samples, actor_true_saliencies[actor])\n",
    "\n",
    "for feature in features:\n",
    "    feature_scores = [scores[actor][feature] for actor in test_set.keys()]\n",
    "    avg_feature_score = sum(feature_scores)/len(feature_scores)\n",
    "    for actor in test_set.keys():\n",
    "        deviations[actor][feature] = scores[actor][feature]/avg_feature_score"
   ]
  },
  {
   "cell_type": "code",
   "execution_count": 52,
   "metadata": {
    "scrolled": true
   },
   "outputs": [
    {
     "data": {
      "text/plain": [
       "{'Alec Baldwin': {'beard': 0.81263264381469069,\n",
       "  'eye brows': 0.89119836146318021,\n",
       "  'eyes': 0.90215171811704042,\n",
       "  'hairline': 1.3905684991343343,\n",
       "  'lips': 0.87828472928837786,\n",
       "  'moustache': 0.86342750745653163,\n",
       "  'nose': 0.96925381223665308},\n",
       " 'America Ferrera': {'beard': 1.2670052394759157,\n",
       "  'eye brows': 0.66216251432244955,\n",
       "  'eyes': 0.66929738918351256,\n",
       "  'hairline': 0.49730425228139508,\n",
       "  'lips': 1.4825203291083959,\n",
       "  'moustache': 1.5390788241156652,\n",
       "  'nose': 1.6069656235369596},\n",
       " 'Angie Harmon': {'beard': 0.94115417360021325,\n",
       "  'eye brows': 1.1609198946678843,\n",
       "  'eyes': 1.1306522724724386,\n",
       "  'hairline': 0.66030531587135943,\n",
       "  'lips': 1.0704698458807052,\n",
       "  'moustache': 1.0248382360384152,\n",
       "  'nose': 1.0803166711273822},\n",
       " 'Anne Hathaway': {'beard': 1.4821897729615572,\n",
       "  'eye brows': 0.90780653728797434,\n",
       "  'eyes': 0.89820331486311789,\n",
       "  'hairline': 0.74058355153276278,\n",
       "  'lips': 1.7457342950026964,\n",
       "  'moustache': 1.7079737591824566,\n",
       "  'nose': 1.0979616398505865},\n",
       " 'Bill Hader': {'beard': 0.70853649735337876,\n",
       "  'eye brows': 0.88248615601293179,\n",
       "  'eyes': 1.0354121311901654,\n",
       "  'hairline': 1.1707550473029027,\n",
       "  'lips': 0.82839212908643056,\n",
       "  'moustache': 0.82157470342944749,\n",
       "  'nose': 0.9696033536570221},\n",
       " 'Cheryl Hines': {'beard': 1.5180052314110479,\n",
       "  'eye brows': 0.90741978716048222,\n",
       "  'eyes': 1.0343604739113534,\n",
       "  'hairline': 0.80880030644633005,\n",
       "  'lips': 1.0338126707615247,\n",
       "  'moustache': 0.80345692921314071,\n",
       "  'nose': 0.8607506569495843},\n",
       " 'Daniel Radcliffe': {'beard': 0.42854103022278267,\n",
       "  'eye brows': 1.2100741977040173,\n",
       "  'eyes': 1.3905967543365478,\n",
       "  'hairline': 1.4496240286124409,\n",
       "  'lips': 0.60763957494968823,\n",
       "  'moustache': 0.70956808822702566,\n",
       "  'nose': 0.9018296287063835},\n",
       " 'Fran Drescher': {'beard': 1.407212142630706,\n",
       "  'eye brows': 1.3607557510594461,\n",
       "  'eyes': 1.1504212173234958,\n",
       "  'hairline': 0.60938776849909659,\n",
       "  'lips': 1.2708426879210863,\n",
       "  'moustache': 1.1336432988752072,\n",
       "  'nose': 1.0147629269392586},\n",
       " 'Gerard Butler': {'beard': 1.188747689363618,\n",
       "  'eye brows': 0.63468972257727507,\n",
       "  'eyes': 0.68707361900786745,\n",
       "  'hairline': 0.77430101806127893,\n",
       "  'lips': 1.342517727522571,\n",
       "  'moustache': 1.3857100014060897,\n",
       "  'nose': 1.1200760258364943},\n",
       " 'Jennifer Aniston': {'beard': 1.073996197931713,\n",
       "  'eye brows': 0.6083921384018286,\n",
       "  'eyes': 0.55847906353708265,\n",
       "  'hairline': 0.99191609555174132,\n",
       "  'lips': 0.82620020215516188,\n",
       "  'moustache': 0.82090367475476944,\n",
       "  'nose': 0.67091235508787816},\n",
       " 'Kristin Chenoweth': {'beard': 1.1940700886659861,\n",
       "  'eye brows': 0.99460665614105248,\n",
       "  'eyes': 0.8785488164831885,\n",
       "  'hairline': 0.95038520691099282,\n",
       "  'lips': 0.94901167000779207,\n",
       "  'moustache': 0.91530398870847318,\n",
       "  'nose': 0.53188225513589649},\n",
       " 'Lorraine Bracco': {'beard': 0.70628660597060788,\n",
       "  'eye brows': 1.1640822714009698,\n",
       "  'eyes': 0.96357100371082649,\n",
       "  'hairline': 1.4982728536648242,\n",
       "  'lips': 0.68729223987452148,\n",
       "  'moustache': 0.60920754846734837,\n",
       "  'nose': 0.73274093031846754},\n",
       " 'Matt Damon': {'beard': 0.71828485486029259,\n",
       "  'eye brows': 1.2088890186761221,\n",
       "  'eyes': 1.2374250596247447,\n",
       "  'hairline': 0.98146622304804809,\n",
       "  'lips': 0.71949229091960865,\n",
       "  'moustache': 0.84674573460403657,\n",
       "  'nose': 1.1122309810366271},\n",
       " 'Michael Vartan': {'beard': 0.59198509281525713,\n",
       "  'eye brows': 0.94361760480212009,\n",
       "  'eyes': 0.78494795259619199,\n",
       "  'hairline': 1.3961931398118106,\n",
       "  'lips': 0.90103380581628323,\n",
       "  'moustache': 1.029102996059702,\n",
       "  'nose': 1.0437061347753631},\n",
       " 'Nicolas Cage': {'beard': 1.3575668830877448,\n",
       "  'eye brows': 1.2810147123418671,\n",
       "  'eyes': 1.3911348450978611,\n",
       "  'hairline': 0.77525711104738781,\n",
       "  'lips': 0.87209825166681909,\n",
       "  'moustache': 0.89029996911513809,\n",
       "  'nose': 1.0768909688361761},\n",
       " 'Selena Gomez': {'beard': 0.70046149656240186,\n",
       "  'eye brows': 0.74016638257786838,\n",
       "  'eyes': 0.85252426598966535,\n",
       "  'hairline': 0.77825009778651233,\n",
       "  'lips': 1.1575484026081286,\n",
       "  'moustache': 1.3924694969223463,\n",
       "  'nose': 1.5547563103719892},\n",
       " 'Steve Carell': {'beard': 0.90332435927208576,\n",
       "  'eye brows': 1.4417182934025323,\n",
       "  'eyes': 1.4352001025548999,\n",
       "  'hairline': 1.5266294844367798,\n",
       "  'lips': 0.62710914743020729,\n",
       "  'moustache': 0.50669524342420413,\n",
       "  'nose': 0.65535972559727906}}"
      ]
     },
     "execution_count": 52,
     "metadata": {},
     "output_type": "execute_result"
    }
   ],
   "source": [
    "deviations"
   ]
  },
  {
   "cell_type": "code",
   "execution_count": 53,
   "metadata": {
    "scrolled": false
   },
   "outputs": [
    {
     "name": "stdout",
     "output_type": "stream",
     "text": [
      "beard\n"
     ]
    },
    {
     "data": {
      "image/png": "[encoded data removed]",
      "text/plain": [
       "<matplotlib.figure.Figure at 0x7f0c9ceaa588>"
      ]
     },
     "metadata": {},
     "output_type": "display_data"
    },
    {
     "name": "stdout",
     "output_type": "stream",
     "text": [
      "(-0.078987398979761259, 0.76315693243007887)\n",
      "eye brows\n"
     ]
    },
    {
     "data": {
      "image/png": "[encoded data removed]",
      "text/plain": [
       "<matplotlib.figure.Figure at 0x7f0cab8584a8>"
      ]
     },
     "metadata": {},
     "output_type": "display_data"
    },
    {
     "name": "stdout",
     "output_type": "stream",
     "text": [
      "(0.57950667566516634, 0.014766922293215952)\n",
      "eyes\n"
     ]
    },
    {
     "data": {
      "image/png": "[encoded data removed]",
      "text/plain": [
       "<matplotlib.figure.Figure at 0x7f0c9d038358>"
      ]
     },
     "metadata": {},
     "output_type": "display_data"
    },
    {
     "name": "stdout",
     "output_type": "stream",
     "text": [
      "(-0.21607211961311654, 0.40488079866041016)\n",
      "hairline\n"
     ]
    },
    {
     "data": {
      "image/png": "[encoded data removed]",
      "text/plain": [
       "<matplotlib.figure.Figure at 0x7f0c9cebe2b0>"
      ]
     },
     "metadata": {},
     "output_type": "display_data"
    },
    {
     "name": "stdout",
     "output_type": "stream",
     "text": [
      "(0.42991578520173851, 0.084997798547311737)\n",
      "lips\n"
     ]
    },
    {
     "data": {
      "image/png": "[encoded data removed]",
      "text/plain": [
       "<matplotlib.figure.Figure at 0x7f0c9cf3ca58>"
      ]
     },
     "metadata": {},
     "output_type": "display_data"
    },
    {
     "name": "stdout",
     "output_type": "stream",
     "text": [
      "(0.51700116335726809, 0.033573982877226148)\n",
      "moustache\n"
     ]
    },
    {
     "data": {
      "image/png": "[encoded data removed]",
      "text/plain": [
       "<matplotlib.figure.Figure at 0x7f0c9cee4ef0>"
      ]
     },
     "metadata": {},
     "output_type": "display_data"
    },
    {
     "name": "stdout",
     "output_type": "stream",
     "text": [
      "(0.099565548379911023, 0.70379910741666962)\n",
      "nose\n"
     ]
    },
    {
     "data": {
      "image/png": "[encoded data removed]",
      "text/plain": [
       "<matplotlib.figure.Figure at 0x7f0c9ce4ab00>"
      ]
     },
     "metadata": {},
     "output_type": "display_data"
    },
    {
     "name": "stdout",
     "output_type": "stream",
     "text": [
      "(-0.050720713307292754, 0.84670749040883497)\n"
     ]
    }
   ],
   "source": [
    "from scipy.stats import pearsonr\n",
    "for feature in features:\n",
    "    print(feature)\n",
    "    turker_dev = np.array([turker_deviations[actor][feature] for actor in sorted(test_set.keys())])\n",
    "    bp_dev = np.array([deviations[actor][feature] for actor in sorted(test_set.keys())])\n",
    "    plt.scatter(turker_dev, bp_dev)\n",
    "    plt.show()\n",
    "    print(pearsonr(turker_dev, bp_dev))"
   ]
  },
  {
   "cell_type": "code",
   "execution_count": 35,
   "metadata": {},
   "outputs": [
    {
     "name": "stdout",
     "output_type": "stream",
     "text": [
      "Alec Baldwin\n",
      "(0.03525357578444429, 0.94018885421186271)\n",
      "America Ferrera\n",
      "(0.40834434357515104, 0.36309342878927864)\n",
      "Angie Harmon\n",
      "(0.59812818576727533, 0.15600850867655552)\n",
      "Anne Hathaway\n",
      "(-0.17336493382819851, 0.71008939017573236)\n",
      "Bill Hader\n",
      "(-0.27477995279867412, 0.55092837340826917)\n",
      "Cheryl Hines\n",
      "(0.16976090115954412, 0.71593964240612906)\n",
      "Daniel Radcliffe\n",
      "(0.70341991658490377, 0.077817021610498971)\n",
      "Fran Drescher\n",
      "(0.038941033450798551, 0.93394176048086064)\n",
      "Gerard Butler\n",
      "(0.23850752699701563, 0.60651472223417646)\n",
      "Jennifer Aniston\n",
      "(0.72604563480778739, 0.064676087258477413)\n",
      "Kristin Chenoweth\n",
      "(-0.10337909720100659, 0.82543450323993206)\n",
      "Lorraine Bracco\n",
      "(0.25433015882394006, 0.58206324520766273)\n",
      "Matt Damon\n",
      "(0.84755142636244063, 0.016026537730649864)\n",
      "Michael Vartan\n",
      "(0.62589128580593467, 0.13269687467156938)\n",
      "Nicolas Cage\n",
      "(0.37507274603173335, 0.40708347350106189)\n",
      "Selena Gomez\n",
      "(0.17741396573352322, 0.70353027619734576)\n",
      "Steve Carell\n",
      "(-0.3939558486378506, 0.38186745266003924)\n"
     ]
    }
   ],
   "source": [
    "for actor in sorted(test_set.keys()):\n",
    "    print(actor)\n",
    "    turker_dev = np.array([turker_deviations[actor][feature] for feature in features])\n",
    "    bp_dev = np.array([deviations[actor][feature] for feature in features])\n",
    "    print(pearsonr(turker_dev, bp_dev))"
   ]
  },
  {
   "cell_type": "code",
   "execution_count": null,
   "metadata": {
    "collapsed": true
   },
   "outputs": [],
   "source": []
  },
  {
   "cell_type": "code",
   "execution_count": null,
   "metadata": {
    "collapsed": true
   },
   "outputs": [],
   "source": []
  },
  {
   "cell_type": "code",
   "execution_count": null,
   "metadata": {
    "collapsed": true
   },
   "outputs": [],
   "source": []
  },
  {
   "cell_type": "code",
   "execution_count": null,
   "metadata": {
    "collapsed": true
   },
   "outputs": [],
   "source": []
  },
  {
   "cell_type": "code",
   "execution_count": null,
   "metadata": {
    "collapsed": true
   },
   "outputs": [],
   "source": []
  },
  {
   "cell_type": "code",
   "execution_count": null,
   "metadata": {
    "collapsed": true
   },
   "outputs": [],
   "source": []
  },
  {
   "cell_type": "code",
   "execution_count": 39,
   "metadata": {
    "collapsed": true
   },
   "outputs": [],
   "source": [
    "def likelihood(deviations):    \n",
    "    probs = {}\n",
    "    for actor in test_set.keys():\n",
    "        probs[actor] = {}\n",
    "        sum_deviations = np.sum(np.array(list(deviations[actor].values())))\n",
    "        for feature in features:\n",
    "            probs[actor][feature] = deviations[actor][feature]/sum_deviations\n",
    "    return probs"
   ]
  },
  {
   "cell_type": "code",
   "execution_count": 40,
   "metadata": {
    "collapsed": true
   },
   "outputs": [],
   "source": [
    "predictions = likelihood(deviations)"
   ]
  },
  {
   "cell_type": "code",
   "execution_count": 41,
   "metadata": {
    "collapsed": true
   },
   "outputs": [],
   "source": [
    "def posterior(rectangles, saliency_map, test_subject):\n",
    "    scores = {}\n",
    "    prior = create_individual_prior(test_subject)\n",
    "    for feature in features:\n",
    "#         intensity_ratio_sum = 0\n",
    "#         for rec in rectangles[feature]:\n",
    "#             highlight = saliency_map[rec[2]:rec[3], rec[0]:rec[1]]\n",
    "#             area = (rec[3]-rec[2])*(rec[1]-rec[0])\n",
    "#             intensity_ratio = (np.sum(highlight)/area)/np.sum(saliency_map)/(227**2)\n",
    "#             intensity_ratio_sum += intensity_ratio\n",
    "#         scores[feature] = prior[feature]*intensity_ratio_sum/len(rectangles[feature])\n",
    "        scores[feature] = prior[feature]*deviations[test_subject][feature]\n",
    "    sum_scores = np.sum(np.array(list(scores.values())))\n",
    "    probs = {}\n",
    "    \n",
    "    for feature in sorted(scores.keys()):\n",
    "        probs[feature] = scores[feature]/sum_scores\n",
    "    \n",
    "    return probs"
   ]
  },
  {
   "cell_type": "code",
   "execution_count": 42,
   "metadata": {
    "collapsed": true
   },
   "outputs": [],
   "source": [
    "posterior_predictions = {}\n",
    "for actor in sorted(test_set.keys()):\n",
    "    saliency_map = actor_true_saliencies[actor]\n",
    "    probs = posterior(mc_rectangle_samples, saliency_map, actor)\n",
    "    posterior_predictions[actor]=probs"
   ]
  },
  {
   "cell_type": "code",
   "execution_count": 19,
   "metadata": {
    "collapsed": true
   },
   "outputs": [],
   "source": [
    "# main problems are with turker data\n",
    "# maybe imbalanced, also tend to label similar feature\n",
    "# maybe should try new set of actors who have very distinct features to do anchoring\n",
    "# people choocse what seems to get highlighted in that image, but not what is salient about the person\n",
    "# probaly better to frame questionas as what is salient about this individual"
   ]
  },
  {
   "cell_type": "code",
   "execution_count": 43,
   "metadata": {},
   "outputs": [
    {
     "name": "stdout",
     "output_type": "stream",
     "text": [
      "Alec Baldwin\n",
      "America Ferrera\n",
      "Angie Harmon\n",
      "Anne Hathaway\n",
      "Bill Hader\n",
      "Cheryl Hines\n",
      "Daniel Radcliffe\n",
      "Fran Drescher\n",
      "Gerard Butler\n",
      "Jennifer Aniston\n",
      "Kristin Chenoweth\n",
      "Lorraine Bracco\n",
      "Matt Damon\n",
      "Michael Vartan\n",
      "Nicolas Cage\n",
      "Selena Gomez\n",
      "Steve Carell\n"
     ]
    }
   ],
   "source": [
    "import operator\n",
    "\n",
    "actors = sorted(test_set.keys())\n",
    "\n",
    "f, axes = plt.subplots(17, 4, figsize=(60,170))\n",
    "\n",
    "for i in range(len(actors)):\n",
    "    actor = actors[i]\n",
    "    ax = axes[i]\n",
    "\n",
    "    ax[0].set_title(actor)\n",
    "    ax[0].axis('off')\n",
    "    ax[0].imshow(actor_true_saliencies[actor])\n",
    "        \n",
    "    prediction = posterior_predictions[actor]\n",
    "    turker_data = actor_stats_normalized[actor]\n",
    "    sorted_turker_data = sorted(turker_data.items(), key=operator.itemgetter(1))\n",
    "    sorted_turker_data.reverse()\n",
    "    \n",
    "    X = np.arange(len(turker_data))\n",
    "    ax[1].set_ylim([0, 0.7])\n",
    "    ax[1].bar(X, [prediction[key[0]] for key in sorted_turker_data],\\\n",
    "           width=0.2, color='b', align='center', label='Posterior Prediction')\n",
    "    ax[1].bar(X-0.2, [turker_data[key[0]] for key in sorted_turker_data],\\\n",
    "           width=0.2, color='g', align='center', label='Turkers')\n",
    "    ax[1].legend()\n",
    "    ax[1].set_xticks(X)\n",
    "    ax[1].set_xticklabels([key[0] for key in sorted_turker_data])\n",
    "    ax[1].set_title('turkers vs posterior', fontsize=17)\n",
    "    \n",
    "    \n",
    "    prediction = create_individual_prior(actor)\n",
    "    X = np.arange(len(turker_data))\n",
    "    ax[2].set_ylim([0, 0.7])\n",
    "    ax[2].bar(X, [prediction[key[0]] for key in sorted_turker_data],\\\n",
    "           width=0.2, color='b', align='center', label='Prior Prediction')\n",
    "    ax[2].bar(X-0.2, [turker_data[key[0]] for key in sorted_turker_data],\\\n",
    "           width=0.2, color='g', align='center', label='Turkers')\n",
    "    ax[2].legend()\n",
    "    ax[2].set_xticks(X)\n",
    "    ax[2].set_xticklabels([key[0] for key in sorted_turker_data])\n",
    "    ax[2].set_title('turkers vs prior', fontsize=17)\n",
    "    \n",
    "    prediction = predictions[actor]\n",
    "    X = np.arange(len(turker_data))\n",
    "    ax[3].set_ylim([0, 0.7])\n",
    "    ax[3].bar(X, [prediction[key[0]] for key in sorted_turker_data],\\\n",
    "           width=0.2, color='b', align='center', label='Backprop Prediction')\n",
    "    ax[3].bar(X-0.2, [turker_data[key[0]] for key in sorted_turker_data],\\\n",
    "           width=0.2, color='g', align='center', label='Turkers')\n",
    "    ax[3].legend()\n",
    "    ax[3].set_xticks(X)\n",
    "    ax[3].set_xticklabels([key[0] for key in sorted_turker_data])\n",
    "    ax[3].set_title('turkers vs backprop', fontsize=17)\n",
    "\n",
    "    print(actor)\n",
    "    \n",
    "    \n",
    "plt.savefig('genderless_robust_predictions_size_feature_normalized.png')\n",
    "plt.close()"
   ]
  },
  {
   "cell_type": "code",
   "execution_count": 44,
   "metadata": {},
   "outputs": [
    {
     "name": "stdout",
     "output_type": "stream",
     "text": [
      "Alec Baldwin\n",
      "SpearmanrResult(correlation=0.92857142857142883, pvalue=0.0025194724037946874)\n",
      "America Ferrera\n",
      "SpearmanrResult(correlation=0.85714285714285732, pvalue=0.01369732661532562)\n",
      "Angie Harmon\n",
      "SpearmanrResult(correlation=0.8928571428571429, pvalue=0.0068071874089353918)\n",
      "Anne Hathaway\n",
      "SpearmanrResult(correlation=0.95499371045729253, pvalue=0.00080553533630175773)\n",
      "Bill Hader\n",
      "SpearmanrResult(correlation=0.92857142857142883, pvalue=0.0025194724037946874)\n",
      "Cheryl Hines\n",
      "SpearmanrResult(correlation=0.92857142857142883, pvalue=0.0025194724037946874)\n",
      "Daniel Radcliffe\n",
      "SpearmanrResult(correlation=0.85714285714285732, pvalue=0.01369732661532562)\n",
      "Fran Drescher\n",
      "SpearmanrResult(correlation=0.82142857142857151, pvalue=0.023448808345691505)\n",
      "Gerard Butler\n",
      "SpearmanrResult(correlation=0.32142857142857151, pvalue=0.4820720382996776)\n",
      "Jennifer Aniston\n",
      "SpearmanrResult(correlation=0.92857142857142883, pvalue=0.0025194724037946874)\n",
      "Kristin Chenoweth\n",
      "SpearmanrResult(correlation=0.92857142857142883, pvalue=0.0025194724037946874)\n",
      "Lorraine Bracco\n",
      "SpearmanrResult(correlation=0.77480621791818072, pvalue=0.040769462520420331)\n",
      "Matt Damon\n",
      "SpearmanrResult(correlation=0.95499371045729253, pvalue=0.00080553533630175773)\n",
      "Michael Vartan\n",
      "SpearmanrResult(correlation=0.39641248358604603, pvalue=0.378634709500413)\n",
      "Nicolas Cage\n",
      "SpearmanrResult(correlation=0.96428571428571452, pvalue=0.00045414916919416892)\n",
      "Selena Gomez\n",
      "SpearmanrResult(correlation=0.92857142857142883, pvalue=0.0025194724037946874)\n",
      "Steve Carell\n",
      "SpearmanrResult(correlation=0.60714285714285721, pvalue=0.14823116148116139)\n",
      "correlation\n",
      "0.822003721487\n",
      "pvalue\n",
      "0.0661494161795\n"
     ]
    }
   ],
   "source": [
    "from scipy.stats import spearmanr\n",
    "cors = []\n",
    "pvals = []\n",
    "for actor in sorted(test_set.keys()):\n",
    "    print(actor)\n",
    "    turker_data = actor_stats[actor]\n",
    "    sorted_turker_data = sorted(turker_data.items(), key=operator.itemgetter(1))\n",
    "    prediction = posterior_predictions[actor]\n",
    "    predicted = np.array([prediction[key[0]] for key in sorted_turker_data])\n",
    "    turker = np.array([turker_data[key[0]] for key in sorted_turker_data])\n",
    "    cor, pval = spearmanr(predicted, turker) \n",
    "    cors.append(cor)\n",
    "    pvals.append(pval)\n",
    "    print(spearmanr(predicted, turker))\n",
    "print('correlation')\n",
    "print(np.mean(np.array(cors)))    \n",
    "print('pvalue')\n",
    "print(np.mean(np.array(pvals)))"
   ]
  },
  {
   "cell_type": "code",
   "execution_count": 45,
   "metadata": {},
   "outputs": [
    {
     "name": "stdout",
     "output_type": "stream",
     "text": [
      "Alec Baldwin\n",
      "SpearmanrResult(correlation=0.96428571428571452, pvalue=0.00045414916919416892)\n",
      "America Ferrera\n",
      "SpearmanrResult(correlation=0.92857142857142883, pvalue=0.0025194724037946874)\n",
      "Angie Harmon\n",
      "SpearmanrResult(correlation=0.8928571428571429, pvalue=0.0068071874089353918)\n",
      "Anne Hathaway\n",
      "SpearmanrResult(correlation=0.9189562119494703, pvalue=0.0034366261562175319)\n",
      "Bill Hader\n",
      "SpearmanrResult(correlation=0.92857142857142883, pvalue=0.0025194724037946874)\n",
      "Cheryl Hines\n",
      "SpearmanrResult(correlation=0.92857142857142883, pvalue=0.0025194724037946874)\n",
      "Daniel Radcliffe\n",
      "SpearmanrResult(correlation=0.8928571428571429, pvalue=0.0068071874089353918)\n",
      "Fran Drescher\n",
      "SpearmanrResult(correlation=0.8928571428571429, pvalue=0.0068071874089353918)\n",
      "Gerard Butler\n",
      "SpearmanrResult(correlation=0.42857142857142866, pvalue=0.33736831108582399)\n",
      "Jennifer Aniston\n",
      "SpearmanrResult(correlation=0.8928571428571429, pvalue=0.0068071874089353918)\n",
      "Kristin Chenoweth\n",
      "SpearmanrResult(correlation=0.96428571428571452, pvalue=0.00045414916919416892)\n",
      "Lorraine Bracco\n",
      "SpearmanrResult(correlation=0.90093746269555897, pvalue=0.0056205867153450136)\n",
      "Matt Damon\n",
      "SpearmanrResult(correlation=0.95499371045729253, pvalue=0.00080553533630175773)\n",
      "Michael Vartan\n",
      "SpearmanrResult(correlation=0.63065622388689135, pvalue=0.12888769568495784)\n",
      "Nicolas Cage\n",
      "SpearmanrResult(correlation=0.96428571428571452, pvalue=0.00045414916919416892)\n",
      "Selena Gomez\n",
      "SpearmanrResult(correlation=0.8928571428571429, pvalue=0.0068071874089353918)\n",
      "Steve Carell\n",
      "SpearmanrResult(correlation=0.82142857142857151, pvalue=0.023448808345691505)\n",
      "correlation\n",
      "0.870494161873\n",
      "pvalue\n",
      "0.0319131979464\n"
     ]
    }
   ],
   "source": [
    "from scipy.stats import spearmanr\n",
    "cors = []\n",
    "pvals = []\n",
    "for actor in sorted(test_set.keys()):\n",
    "    print(actor)\n",
    "    turker_data = actor_stats[actor]\n",
    "    sorted_turker_data = sorted(turker_data.items(), key=operator.itemgetter(1))\n",
    "    prediction = create_individual_prior(actor)\n",
    "    predicted = np.array([prediction[key[0]] for key in sorted_turker_data])\n",
    "    turker = np.array([turker_data[key[0]] for key in sorted_turker_data])\n",
    "    cor, pval = spearmanr(predicted, turker) \n",
    "    cors.append(cor)\n",
    "    pvals.append(pval)\n",
    "    print(spearmanr(predicted, turker))\n",
    "print('correlation')\n",
    "print(np.mean(np.array(cors)))    \n",
    "print('pvalue')\n",
    "print(np.mean(np.array(pvals)))"
   ]
  },
  {
   "cell_type": "code",
   "execution_count": 46,
   "metadata": {},
   "outputs": [
    {
     "name": "stdout",
     "output_type": "stream",
     "text": [
      "Alec Baldwin\n",
      "SpearmanrResult(correlation=0.071428571428571438, pvalue=0.87904819314815408)\n",
      "America Ferrera\n",
      "SpearmanrResult(correlation=0.035714285714285719, pvalue=0.93940820547128556)\n",
      "Angie Harmon\n",
      "SpearmanrResult(correlation=0.75000000000000022, pvalue=0.052181400457057762)\n",
      "Anne Hathaway\n",
      "SpearmanrResult(correlation=-0.018018749253911181, pvalue=0.96941538680319872)\n",
      "Bill Hader\n",
      "SpearmanrResult(correlation=0.5, pvalue=0.25316999510032273)\n",
      "Cheryl Hines\n",
      "SpearmanrResult(correlation=0.32142857142857151, pvalue=0.4820720382996776)\n",
      "Daniel Radcliffe\n",
      "SpearmanrResult(correlation=0.42857142857142866, pvalue=0.33736831108582399)\n",
      "Fran Drescher\n",
      "SpearmanrResult(correlation=0.035714285714285719, pvalue=0.93940820547128556)\n",
      "Gerard Butler\n",
      "SpearmanrResult(correlation=0.071428571428571438, pvalue=0.87904819314815408)\n",
      "Jennifer Aniston\n",
      "SpearmanrResult(correlation=-0.32142857142857151, pvalue=0.4820720382996776)\n",
      "Kristin Chenoweth\n",
      "SpearmanrResult(correlation=-0.5, pvalue=0.25316999510032273)\n",
      "Lorraine Bracco\n",
      "SpearmanrResult(correlation=0.39641248358604603, pvalue=0.378634709500413)\n",
      "Matt Damon\n",
      "SpearmanrResult(correlation=0.34235623582431246, pvalue=0.45225122159090575)\n",
      "Michael Vartan\n",
      "SpearmanrResult(correlation=-0.3783937343321348, pvalue=0.402602201921755)\n",
      "Nicolas Cage\n",
      "SpearmanrResult(correlation=0.14285714285714288, pvalue=0.75994530021809292)\n",
      "Selena Gomez\n",
      "SpearmanrResult(correlation=0.46428571428571441, pvalue=0.29393410760025168)\n",
      "Steve Carell\n",
      "SpearmanrResult(correlation=0.14285714285714288, pvalue=0.75994530021809292)\n",
      "correlation\n",
      "0.146189022275\n",
      "pvalue\n",
      "0.559627929614\n"
     ]
    }
   ],
   "source": [
    "from scipy.stats import spearmanr\n",
    "cors = []\n",
    "pvals = []\n",
    "for actor in sorted(test_set.keys()):\n",
    "    print(actor)\n",
    "    turker_data = actor_stats[actor]\n",
    "    sorted_turker_data = sorted(turker_data.items(), key=operator.itemgetter(1))\n",
    "    prediction = predictions[actor]\n",
    "    predicted = np.array([prediction[key[0]] for key in sorted_turker_data])\n",
    "    turker = np.array([turker_data[key[0]] for key in sorted_turker_data])\n",
    "    cor, pval = spearmanr(predicted, turker) \n",
    "    cors.append(cor)\n",
    "    pvals.append(pval)\n",
    "    print(spearmanr(predicted, turker))\n",
    "print('correlation')\n",
    "print(np.mean(np.array(cors)))    \n",
    "print('pvalue')\n",
    "print(np.mean(np.array(pvals)))"
   ]
  },
  {
   "cell_type": "code",
   "execution_count": 12,
   "metadata": {
    "scrolled": true
   },
   "outputs": [
    {
     "name": "stdout",
     "output_type": "stream",
     "text": [
      "eye brows\n"
     ]
    },
    {
     "ename": "NameError",
     "evalue": "name 'turker_deviations' is not defined",
     "output_type": "error",
     "traceback": [
      "\u001b[0;31m---------------------------------------------------------------------------\u001b[0m",
      "\u001b[0;31mNameError\u001b[0m                                 Traceback (most recent call last)",
      "\u001b[0;32m<ipython-input-12-222d9311e236>\u001b[0m in \u001b[0;36m<module>\u001b[0;34m()\u001b[0m\n\u001b[1;32m      2\u001b[0m \u001b[0;32mfor\u001b[0m \u001b[0mfeature\u001b[0m \u001b[0;32min\u001b[0m \u001b[0mfeatures\u001b[0m\u001b[0;34m:\u001b[0m\u001b[0;34m\u001b[0m\u001b[0m\n\u001b[1;32m      3\u001b[0m     \u001b[0mprint\u001b[0m\u001b[0;34m(\u001b[0m\u001b[0mfeature\u001b[0m\u001b[0;34m)\u001b[0m\u001b[0;34m\u001b[0m\u001b[0m\n\u001b[0;32m----> 4\u001b[0;31m     \u001b[0mdata\u001b[0m \u001b[0;34m=\u001b[0m \u001b[0;34m[\u001b[0m\u001b[0;34m(\u001b[0m\u001b[0mactor\u001b[0m\u001b[0;34m,\u001b[0m \u001b[0mturker_deviations\u001b[0m\u001b[0;34m[\u001b[0m\u001b[0mactor\u001b[0m\u001b[0;34m]\u001b[0m\u001b[0;34m[\u001b[0m\u001b[0mfeature\u001b[0m\u001b[0;34m]\u001b[0m\u001b[0;34m)\u001b[0m \u001b[0;32mfor\u001b[0m \u001b[0mactor\u001b[0m \u001b[0;32min\u001b[0m \u001b[0mtest_set\u001b[0m\u001b[0;34m.\u001b[0m\u001b[0mkeys\u001b[0m\u001b[0;34m(\u001b[0m\u001b[0;34m)\u001b[0m\u001b[0;34m]\u001b[0m\u001b[0;34m\u001b[0m\u001b[0m\n\u001b[0m\u001b[1;32m      5\u001b[0m     \u001b[0msorted_data\u001b[0m \u001b[0;34m=\u001b[0m \u001b[0msorted\u001b[0m\u001b[0;34m(\u001b[0m\u001b[0mdata\u001b[0m\u001b[0;34m,\u001b[0m \u001b[0mkey\u001b[0m\u001b[0;34m=\u001b[0m\u001b[0;32mlambda\u001b[0m \u001b[0mtup\u001b[0m\u001b[0;34m:\u001b[0m \u001b[0mtup\u001b[0m\u001b[0;34m[\u001b[0m\u001b[0;36m1\u001b[0m\u001b[0;34m]\u001b[0m\u001b[0;34m)\u001b[0m\u001b[0;34m\u001b[0m\u001b[0m\n\u001b[1;32m      6\u001b[0m     \u001b[0msorted_data\u001b[0m\u001b[0;34m.\u001b[0m\u001b[0mreverse\u001b[0m\u001b[0;34m(\u001b[0m\u001b[0;34m)\u001b[0m\u001b[0;34m\u001b[0m\u001b[0m\n",
      "\u001b[0;32m<ipython-input-12-222d9311e236>\u001b[0m in \u001b[0;36m<listcomp>\u001b[0;34m(.0)\u001b[0m\n\u001b[1;32m      2\u001b[0m \u001b[0;32mfor\u001b[0m \u001b[0mfeature\u001b[0m \u001b[0;32min\u001b[0m \u001b[0mfeatures\u001b[0m\u001b[0;34m:\u001b[0m\u001b[0;34m\u001b[0m\u001b[0m\n\u001b[1;32m      3\u001b[0m     \u001b[0mprint\u001b[0m\u001b[0;34m(\u001b[0m\u001b[0mfeature\u001b[0m\u001b[0;34m)\u001b[0m\u001b[0;34m\u001b[0m\u001b[0m\n\u001b[0;32m----> 4\u001b[0;31m     \u001b[0mdata\u001b[0m \u001b[0;34m=\u001b[0m \u001b[0;34m[\u001b[0m\u001b[0;34m(\u001b[0m\u001b[0mactor\u001b[0m\u001b[0;34m,\u001b[0m \u001b[0mturker_deviations\u001b[0m\u001b[0;34m[\u001b[0m\u001b[0mactor\u001b[0m\u001b[0;34m]\u001b[0m\u001b[0;34m[\u001b[0m\u001b[0mfeature\u001b[0m\u001b[0;34m]\u001b[0m\u001b[0;34m)\u001b[0m \u001b[0;32mfor\u001b[0m \u001b[0mactor\u001b[0m \u001b[0;32min\u001b[0m \u001b[0mtest_set\u001b[0m\u001b[0;34m.\u001b[0m\u001b[0mkeys\u001b[0m\u001b[0;34m(\u001b[0m\u001b[0;34m)\u001b[0m\u001b[0;34m]\u001b[0m\u001b[0;34m\u001b[0m\u001b[0m\n\u001b[0m\u001b[1;32m      5\u001b[0m     \u001b[0msorted_data\u001b[0m \u001b[0;34m=\u001b[0m \u001b[0msorted\u001b[0m\u001b[0;34m(\u001b[0m\u001b[0mdata\u001b[0m\u001b[0;34m,\u001b[0m \u001b[0mkey\u001b[0m\u001b[0;34m=\u001b[0m\u001b[0;32mlambda\u001b[0m \u001b[0mtup\u001b[0m\u001b[0;34m:\u001b[0m \u001b[0mtup\u001b[0m\u001b[0;34m[\u001b[0m\u001b[0;36m1\u001b[0m\u001b[0;34m]\u001b[0m\u001b[0;34m)\u001b[0m\u001b[0;34m\u001b[0m\u001b[0m\n\u001b[1;32m      6\u001b[0m     \u001b[0msorted_data\u001b[0m\u001b[0;34m.\u001b[0m\u001b[0mreverse\u001b[0m\u001b[0;34m(\u001b[0m\u001b[0;34m)\u001b[0m\u001b[0;34m\u001b[0m\u001b[0m\n",
      "\u001b[0;31mNameError\u001b[0m: name 'turker_deviations' is not defined"
     ]
    }
   ],
   "source": [
    "# rank actors by prominence of feature\n",
    "for feature in features:\n",
    "    print(feature)\n",
    "    data = [(actor, turker_deviations[actor][feature]) for actor in test_set.keys()]\n",
    "    sorted_data = sorted(data, key=lambda tup: tup[1])\n",
    "    sorted_data.reverse()\n",
    "    clean_sorted_data = [stat[0] for stat in sorted_data]\n",
    "    print(clean_sorted_data)"
   ]
  },
  {
   "cell_type": "code",
   "execution_count": 43,
   "metadata": {},
   "outputs": [
    {
     "name": "stdout",
     "output_type": "stream",
     "text": [
      "eye brows\n",
      "['Steve Carell', 'Fran Drescher', 'Nicolas Cage', 'Daniel Radcliffe', 'Matt Damon', 'Lorraine Bracco', 'Angie Harmon', 'Kristin Chenoweth', 'Michael Vartan', 'Anne Hathaway', 'Cheryl Hines', 'Alec Baldwin', 'Bill Hader', 'Selena Gomez', 'America Ferrera', 'Gerard Butler', 'Jennifer Aniston']\n",
      "eyes\n",
      "['Steve Carell', 'Daniel Radcliffe', 'Nicolas Cage', 'Matt Damon', 'Fran Drescher', 'Angie Harmon', 'Cheryl Hines', 'Bill Hader', 'Lorraine Bracco', 'Alec Baldwin', 'Anne Hathaway', 'Kristin Chenoweth', 'Selena Gomez', 'Michael Vartan', 'Gerard Butler', 'America Ferrera', 'Jennifer Aniston']\n",
      "lips\n",
      "['Anne Hathaway', 'America Ferrera', 'Gerard Butler', 'Fran Drescher', 'Selena Gomez', 'Angie Harmon', 'Cheryl Hines', 'Kristin Chenoweth', 'Michael Vartan', 'Alec Baldwin', 'Nicolas Cage', 'Bill Hader', 'Jennifer Aniston', 'Matt Damon', 'Lorraine Bracco', 'Steve Carell', 'Daniel Radcliffe']\n",
      "nose\n",
      "['America Ferrera', 'Selena Gomez', 'Gerard Butler', 'Anne Hathaway', 'Matt Damon', 'Angie Harmon', 'Nicolas Cage', 'Michael Vartan', 'Fran Drescher', 'Alec Baldwin', 'Bill Hader', 'Daniel Radcliffe', 'Cheryl Hines', 'Lorraine Bracco', 'Jennifer Aniston', 'Steve Carell', 'Kristin Chenoweth']\n"
     ]
    }
   ],
   "source": [
    "# rank actors by prominence of feature\n",
    "for feature in features:\n",
    "    print(feature)\n",
    "    data = [(actor, deviations[actor][feature]) for actor in test_set.keys()]\n",
    "    sorted_data = sorted(data, key=lambda tup: tup[1])\n",
    "    sorted_data.reverse()\n",
    "    clean_sorted_data = [stat[0] for stat in sorted_data]\n",
    "    print(clean_sorted_data)"
   ]
  },
  {
   "cell_type": "code",
   "execution_count": null,
   "metadata": {
    "collapsed": true
   },
   "outputs": [],
   "source": []
  }
 ],
 "metadata": {
  "kernelspec": {
   "display_name": "Python [conda env:anaconda3]",
   "language": "python",
   "name": "conda-env-anaconda3-py"
  },
  "language_info": {
   "codemirror_mode": {
    "name": "ipython",
    "version": 3
   },
   "file_extension": ".py",
   "mimetype": "text/x-python",
   "name": "python",
   "nbconvert_exporter": "python",
   "pygments_lexer": "ipython3",
   "version": "3.6.0"
  }
 },
 "nbformat": 4,
 "nbformat_minor": 2
}
