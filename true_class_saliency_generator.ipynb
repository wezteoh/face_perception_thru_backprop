{
 "cells": [
  {
   "cell_type": "code",
   "execution_count": 3,
   "metadata": {
    "collapsed": true
   },
   "outputs": [],
   "source": [
    "import numpy as np\n",
    "import tensorflow as tf\n",
    "import os\n",
    "import matplotlib.pyplot as plt\n",
    "%matplotlib inline\n",
    "import _pickle\n",
    "import time"
   ]
  },
  {
   "cell_type": "code",
   "execution_count": 4,
   "metadata": {
    "collapsed": true
   },
   "outputs": [],
   "source": [
    "%load_ext autoreload\n",
    "%autoreload 2"
   ]
  },
  {
   "cell_type": "code",
   "execution_count": 5,
   "metadata": {
    "collapsed": true
   },
   "outputs": [],
   "source": [
    "# from alexnet_backprop import *\n",
    "from alexnet_guided_bp_vanilla import *\n",
    "from utils import *"
   ]
  },
  {
   "cell_type": "code",
   "execution_count": 6,
   "metadata": {},
   "outputs": [],
   "source": [
    "# load test set images\n",
    "test_images = open('test_set_17_227.pkl', \"rb\")\n",
    "data_set = _pickle.load(test_images) \n",
    "actor_code = get_actor_code(data_set)[0]\n",
    "reversed_actor_code = get_actor_code(data_set)[1]\n",
    "\n",
    "# load weights\n",
    "weight_fpath = 'e2e17_result3/'\n",
    "weight_fname = 'end2end_weights.pkl' \n",
    "weight_fname = weight_fpath + weight_fname"
   ]
  },
  {
   "cell_type": "code",
   "execution_count": 7,
   "metadata": {},
   "outputs": [
    {
     "data": {
      "text/plain": [
       "{0: 'Alec Baldwin',\n",
       " 1: 'America Ferrera',\n",
       " 2: 'Angie Harmon',\n",
       " 3: 'Anne Hathaway',\n",
       " 4: 'Bill Hader',\n",
       " 5: 'Cheryl Hines',\n",
       " 6: 'Daniel Radcliffe',\n",
       " 7: 'Fran Drescher',\n",
       " 8: 'Gerard Butler',\n",
       " 9: 'Jennifer Aniston',\n",
       " 10: 'Kristin Chenoweth',\n",
       " 11: 'Lorraine Bracco',\n",
       " 12: 'Matt Damon',\n",
       " 13: 'Michael Vartan',\n",
       " 14: 'Nicolas Cage',\n",
       " 15: 'Selena Gomez',\n",
       " 16: 'Steve Carell'}"
      ]
     },
     "execution_count": 7,
     "metadata": {},
     "output_type": "execute_result"
    }
   ],
   "source": [
    "actor_code"
   ]
  },
  {
   "cell_type": "code",
   "execution_count": 8,
   "metadata": {},
   "outputs": [
    {
     "data": {
      "text/plain": [
       "{'Alec Baldwin': 0,\n",
       " 'America Ferrera': 1,\n",
       " 'Angie Harmon': 2,\n",
       " 'Anne Hathaway': 3,\n",
       " 'Bill Hader': 4,\n",
       " 'Cheryl Hines': 5,\n",
       " 'Daniel Radcliffe': 6,\n",
       " 'Fran Drescher': 7,\n",
       " 'Gerard Butler': 8,\n",
       " 'Jennifer Aniston': 9,\n",
       " 'Kristin Chenoweth': 10,\n",
       " 'Lorraine Bracco': 11,\n",
       " 'Matt Damon': 12,\n",
       " 'Michael Vartan': 13,\n",
       " 'Nicolas Cage': 14,\n",
       " 'Selena Gomez': 15,\n",
       " 'Steve Carell': 16}"
      ]
     },
     "execution_count": 8,
     "metadata": {},
     "output_type": "execute_result"
    }
   ],
   "source": [
    "reversed_actor_code"
   ]
  },
  {
   "cell_type": "code",
   "execution_count": 9,
   "metadata": {},
   "outputs": [
    {
     "data": {
      "text/plain": [
       "15"
      ]
     },
     "execution_count": 9,
     "metadata": {},
     "output_type": "execute_result"
    }
   ],
   "source": [
    "len(data_set['Angie Harmon'])"
   ]
  },
  {
   "cell_type": "code",
   "execution_count": 10,
   "metadata": {
    "collapsed": true
   },
   "outputs": [],
   "source": [
    "def generate_true_class_saliency(data_set, graph, sess, fname):\n",
    "    \n",
    "    # save saliencies in an external array\n",
    "    saliencies = {}\n",
    "    for actor in data_set:\n",
    "        saliencies[actor] = np.zeros((0,227,227,3))\n",
    "    \n",
    "    \n",
    "    plt.figure(dpi=70, figsize=(160, 130))\n",
    "    col=0\n",
    "    for actor in data_set:\n",
    "        row = 0 \n",
    "        for _ in range(len(data_set[actor])):\n",
    "            \n",
    "            # forward pass\n",
    "            image = data_set[actor][_].astype(np.float64)\n",
    "            image_feed = np.expand_dims(image,0)\n",
    "            probabilities = sess.run(graph.probabilities, feed_dict={graph.inputs:image_feed})[0]\n",
    "    \n",
    "            # plot original image\n",
    "            index = row*len(data_set)*2 + col +1\n",
    "            plt.subplots_adjust(bottom = 0.0, wspace=0.15, hspace = 0.1, top=1.0)\n",
    "            plt.subplot(len(data_set[actor]), len(data_set)*2, index)\n",
    "            plt.axis('off')\n",
    "            plt.title(\"True: \" + actor + \"\\n Pred: \" + actor_code[np.argmax(probabilities)], fontsize=14)\n",
    "            plt.imshow(image.astype('uint8'))\n",
    "    \n",
    "            # plot true class_saliency\n",
    "            i = reversed_actor_code[actor]\n",
    "            one_hot = np.zeros(len(actor_code))\n",
    "            one_hot[i] = 1\n",
    "            plt.subplot(len(data_set[actor]), len(data_set)*2, index+1)\n",
    "            plt.axis('off')\n",
    "            plt.title(actor + '\\n' + str(probabilities[i]), fontsize=14)\n",
    "            saliency = guided_backprop(graph, image, one_hot, sess)\n",
    "            plt.imshow(saliency)\n",
    "\n",
    "            saliencies[actor] = np.vstack((saliencies[actor], np.expand_dims(saliency, axis=0)))\n",
    "            \n",
    "            row += 1\n",
    "        col += 2\n",
    "    plt.savefig(fname +'.png')\n",
    "    plt.close()\n",
    "    \n",
    "    pickle_out = open(fname +\".pkl\",\"wb\")\n",
    "    _pickle.dump(saliencies, pickle_out)"
   ]
  },
  {
   "cell_type": "code",
   "execution_count": 14,
   "metadata": {
    "collapsed": true
   },
   "outputs": [],
   "source": [
    "# hyperparameters and backprop variants\n",
    "tau = 1.0"
   ]
  },
  {
   "cell_type": "code",
   "execution_count": 15,
   "metadata": {
    "collapsed": true
   },
   "outputs": [],
   "source": [
    "tf.reset_default_graph()\n",
    "b_graph = backprop_graph(17, 100, alexnet_face_classifier)\n",
    "b_graph.classifier_graph(temp=tau)\n",
    "b_graph.guided_backprop_graph()"
   ]
  },
  {
   "cell_type": "code",
   "execution_count": 16,
   "metadata": {},
   "outputs": [
    {
     "name": "stdout",
     "output_type": "stream",
     "text": [
      "0 conv1W (11, 11, 3, 96)\n",
      "1 conv1b (96,)\n",
      "2 conv2W (5, 5, 48, 256)\n",
      "3 conv2b (256,)\n",
      "4 conv3W (3, 3, 256, 384)\n",
      "5 conv3b (384,)\n",
      "6 conv4W (3, 3, 192, 384)\n",
      "7 conv4b (384,)\n",
      "8 conv5W (3, 3, 192, 256)\n",
      "9 conv5b (256,)\n",
      "10 fc1W (43264, 100)\n",
      "11 fc1b (100,)\n",
      "12 fc2W (100, 17)\n",
      "13 fc2b (17,)\n"
     ]
    }
   ],
   "source": [
    "with tf.Session() as sess:\n",
    "    b_graph.cnn.load_weights(weight_fname, sess)\n",
    "    generate_true_class_saliency(data_set, b_graph, sess, 'true_class_saliency_vanilla_temp1')"
   ]
  },
  {
   "cell_type": "code",
   "execution_count": null,
   "metadata": {
    "collapsed": true
   },
   "outputs": [],
   "source": []
  }
 ],
 "metadata": {
  "kernelspec": {
   "display_name": "Python [conda env:anaconda3]",
   "language": "python",
   "name": "conda-env-anaconda3-py"
  },
  "language_info": {
   "codemirror_mode": {
    "name": "ipython",
    "version": 3
   },
   "file_extension": ".py",
   "mimetype": "text/x-python",
   "name": "python",
   "nbconvert_exporter": "python",
   "pygments_lexer": "ipython3",
   "version": "3.6.0"
  }
 },
 "nbformat": 4,
 "nbformat_minor": 2
}
