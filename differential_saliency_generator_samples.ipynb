{
 "cells": [
  {
   "cell_type": "code",
   "execution_count": 1,
   "metadata": {
    "collapsed": true
   },
   "outputs": [],
   "source": [
    "import numpy as np\n",
    "import tensorflow as tf\n",
    "import os\n",
    "\n",
    "# from alexnet_backprop import *\n",
    "from alexnet_guided_bp_vanilla import *\n",
    "from utils import *\n",
    "\n",
    "import matplotlib.pyplot as plt\n",
    "import _pickle\n",
    "\n",
    "import time"
   ]
  },
  {
   "cell_type": "code",
   "execution_count": 2,
   "metadata": {
    "collapsed": true
   },
   "outputs": [],
   "source": [
    "# load test set images\n",
    "test_images = open('test_set_17_227.pkl', \"rb\")\n",
    "data_set = _pickle.load(test_images) \n",
    "actor_code = get_actor_code(data_set)[0]\n",
    "reversed_actor_code = get_actor_code(data_set)[1]\n",
    "\n",
    "# load weights\n",
    "weight_fpath = 'e2e17_result_trial2/'\n",
    "weight_fname = 'end_to_end_learning_weights_17_trial2.pkl'\n",
    "weight_fname = weight_fpath + weight_fname"
   ]
  },
  {
   "cell_type": "code",
   "execution_count": 3,
   "metadata": {
    "collapsed": true
   },
   "outputs": [],
   "source": [
    "folder = 'saliency_diff_trial2_samples'"
   ]
  },
  {
   "cell_type": "code",
   "execution_count": 4,
   "metadata": {
    "collapsed": true
   },
   "outputs": [],
   "source": [
    "with open('diff_saliencies_trial2.pkl', \"rb\") as handle:\n",
    "    diff_saliencies = _pickle.load(handle) \n",
    "\n",
    "with open('mean_diff_saliencies_trial2.pkl', \"rb\") as handle:\n",
    "    mean_diff_saliencies = _pickle.load(handle) "
   ]
  },
  {
   "cell_type": "code",
   "execution_count": 5,
   "metadata": {},
   "outputs": [
    {
     "data": {
      "text/plain": [
       "(15, 17, 227, 227, 3)"
      ]
     },
     "execution_count": 5,
     "metadata": {},
     "output_type": "execute_result"
    }
   ],
   "source": [
    "diff_saliencies['Alec Baldwin'].shape"
   ]
  },
  {
   "cell_type": "code",
   "execution_count": 6,
   "metadata": {},
   "outputs": [
    {
     "data": {
      "text/plain": [
       "(15, 227, 227, 3)"
      ]
     },
     "execution_count": 6,
     "metadata": {},
     "output_type": "execute_result"
    }
   ],
   "source": [
    "mean_diff_saliencies['Alec Baldwin'].shape"
   ]
  },
  {
   "cell_type": "code",
   "execution_count": 7,
   "metadata": {
    "collapsed": true
   },
   "outputs": [],
   "source": [
    "# # def generate_diff_saliency_samples(actors, vs_lists, sample_indices):\n",
    "# fname = 'pairwise'\n",
    "\n",
    "# actors = ['America Ferrera', 'Nicolas Cage']\n",
    "# vs_lists = [['Fran Drescher', 'Nicolas Cage'],['Gerard Butler', 'Daniel Radcliffe']]\n",
    "# sample_indices = [[12, 13],[12, 14]]\n",
    "# f, axes = plt.subplots(3, 6, figsize=(80,40))\n",
    "# plt.subplots_adjust(wspace=0.02, hspace = 0.02)\n",
    "\n",
    "# num_col_splits = 2\n",
    "# col_splits = [0+i*3 for i in range(num_col_splits)]\n",
    "\n",
    "# for _ in range(len(actors)):\n",
    "#     col = col_splits[_]\n",
    "#     axes[0][col].set_title(actors[_], fontsize=45)\n",
    "#     axes[0][col+1].set_title('vs ' + vs_lists[_][0], fontsize=45)\n",
    "#     axes[0][col+2].set_title('vs ' + vs_lists[_][1], fontsize=45)\n",
    "\n",
    "# for _ in range(len(actors)):\n",
    "#     col = col_splits[_]\n",
    "#     actor = actors[_]\n",
    "#     for row in range(len(sample_indices[0])):\n",
    "#         axes[row][col].axis('off')\n",
    "#         axes[row][col].imshow(data_set[actor][sample_indices[_][row]].astype('uint8'))\n",
    "\n",
    "#         axes[row][col+1].axis('off')\n",
    "#         axes[row][col+1].imshow(diff_saliencies[actor][sample_indices[_][row]]\\\n",
    "#                                 [reversed_actor_code[vs_lists[_][0]]])\n",
    "\n",
    "#         axes[row][col+2].axis('off')\n",
    "#         axes[row][col+2].imshow(diff_saliencies[actor][sample_indices[_][row]]\\\n",
    "#                                 [reversed_actor_code[vs_lists[_][1]]])\n",
    "    \n",
    "    \n",
    "#     mean_diff = np.sum(mean_diff_saliencies[actor], axis=0)\n",
    "#     mean_diff = mean_diff/np.max(mean_diff)\n",
    "# #     axes[-1][col].set_title('Aggregated Differences', fontsize=45)\n",
    "#     axes[-1][col].axis('off')\n",
    "#     axes[-1][col].imshow(mean_diff)\n",
    "\n",
    "#     pairwise_difference = np.sum(diff_saliencies[actor][:, reversed_actor_code[vs_lists[_][0]]], axis =0)\n",
    "#     pairwise_difference = pairwise_difference/np.max(pairwise_difference)\n",
    "#     axes[-1][col+1].axis('off')\n",
    "#     axes[-1][col+1].imshow(pairwise_difference)\n",
    "\n",
    "#     pairwise_difference = np.sum(diff_saliencies[actor][:, reversed_actor_code[vs_lists[_][1]]], axis=0)\n",
    "#     pairwise_difference = pairwise_difference/np.max(pairwise_difference)\n",
    "#     axes[-1][col+2].axis('off')\n",
    "#     axes[-1][col+2].imshow(pairwise_difference)\n",
    "\n",
    "# plt.savefig('weight comparison/' + fname +'.png', bbox_inches='tight')\n",
    "# plt.close()"
   ]
  },
  {
   "cell_type": "code",
   "execution_count": 11,
   "metadata": {
    "collapsed": true
   },
   "outputs": [],
   "source": [
    "# def generate_diff_saliency_samples(actors, vs_lists, sample_indices):\n",
    "fname = 'pairwise'\n",
    "\n",
    "actors = ['America Ferrera', 'Nicolas Cage']\n",
    "vs_lists = [['Fran Drescher', 'Nicolas Cage'],['Gerard Butler', 'Daniel Radcliffe']]\n",
    "sample_indices = [[12],[12]]\n",
    "f, axes = plt.subplots(2, 6, figsize=(80,26))\n",
    "plt.subplots_adjust(wspace=0.02, hspace = 0.02)\n",
    "\n",
    "num_col_splits = 2\n",
    "col_splits = [0+i*3 for i in range(num_col_splits)]\n",
    "\n",
    "for _ in range(len(actors)):\n",
    "    col = col_splits[_]\n",
    "    axes[0][col].set_title(actors[_], fontsize=45)\n",
    "    axes[0][col].title.set_position([.5, 1.02])\n",
    "    axes[0][col+1].set_title('vs ' + vs_lists[_][0], fontsize=45)\n",
    "    axes[0][col+1].title.set_position([.5, 1.02])\n",
    "    axes[0][col+2].set_title('vs ' + vs_lists[_][1], fontsize=45)\n",
    "    axes[0][col+2].title.set_position([.5, 1.02])\n",
    "\n",
    "for _ in range(len(actors)):\n",
    "    col = col_splits[_]\n",
    "    actor = actors[_]\n",
    "    for row in range(len(sample_indices[0])):\n",
    "        axes[row][col].axis('off')\n",
    "        axes[row][col].imshow(data_set[actor][sample_indices[_][row]].astype('uint8'))\n",
    "\n",
    "        axes[row][col+1].axis('off')\n",
    "        axes[row][col+1].imshow(diff_saliencies[actor][sample_indices[_][row]]\\\n",
    "                                [reversed_actor_code[vs_lists[_][0]]])\n",
    "\n",
    "        axes[row][col+2].axis('off')\n",
    "        axes[row][col+2].imshow(diff_saliencies[actor][sample_indices[_][row]]\\\n",
    "                                [reversed_actor_code[vs_lists[_][1]]])\n",
    "    \n",
    "    \n",
    "    mean_diff = np.sum(mean_diff_saliencies[actor], axis=0)\n",
    "    mean_diff = mean_diff/np.max(mean_diff)\n",
    "#     axes[-1][col].set_title('Aggregated Differences', fontsize=45)\n",
    "    axes[-1][col].axis('off')\n",
    "    axes[-1][col].imshow(mean_diff)\n",
    "\n",
    "    pairwise_difference = np.sum(diff_saliencies[actor][:, reversed_actor_code[vs_lists[_][0]]], axis =0)\n",
    "    pairwise_difference = pairwise_difference/np.max(pairwise_difference)\n",
    "    axes[-1][col+1].axis('off')\n",
    "    axes[-1][col+1].imshow(pairwise_difference)\n",
    "\n",
    "    pairwise_difference = np.sum(diff_saliencies[actor][:, reversed_actor_code[vs_lists[_][1]]], axis=0)\n",
    "    pairwise_difference = pairwise_difference/np.max(pairwise_difference)\n",
    "    axes[-1][col+2].axis('off')\n",
    "    axes[-1][col+2].imshow(pairwise_difference)\n",
    "\n",
    "plt.savefig('weight comparison/' + fname +'.pdf', bbox_inches='tight')\n",
    "plt.close()"
   ]
  },
  {
   "cell_type": "code",
   "execution_count": null,
   "metadata": {
    "collapsed": true
   },
   "outputs": [],
   "source": []
  }
 ],
 "metadata": {
  "kernelspec": {
   "display_name": "Python [conda env:anaconda3]",
   "language": "python",
   "name": "conda-env-anaconda3-py"
  },
  "language_info": {
   "codemirror_mode": {
    "name": "ipython",
    "version": 3
   },
   "file_extension": ".py",
   "mimetype": "text/x-python",
   "name": "python",
   "nbconvert_exporter": "python",
   "pygments_lexer": "ipython3",
   "version": "3.6.0"
  }
 },
 "nbformat": 4,
 "nbformat_minor": 2
}
